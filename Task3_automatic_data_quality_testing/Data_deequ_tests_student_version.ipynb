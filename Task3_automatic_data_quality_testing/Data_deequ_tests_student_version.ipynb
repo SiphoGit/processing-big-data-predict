{
 "cells": [
  {
   "cell_type": "markdown",
   "metadata": {},
   "source": [
    "# Processing Big Data - Deequ Analysis\n",
    "\n",
    "© Explore Data Science Academy\n",
    "\n",
    "## Honour Code\n",
    "I {**SIPHO**, **SHIMANGE**}, confirm - by submitting this document - that the solutions in this notebook are a result of my own work and that I abide by the [EDSA honour code](https://drive.google.com/file/d/1QDCjGZJ8-FmJE3bZdIQNwnJyQKPhHZBn/view?usp=sharing).\n",
    "    Non-compliance with the honour code constitutes a material breach of contract.\n",
    "\n",
    "\n",
    "## Context\n",
    "\n",
    "Having completed manual data quality checks, it should be obvious that the process can become quite cumbersome. As the Data Engineer in the team, you have researched some tools that could potentially save the team from having to do this cumbersome work. In your research, you have come a across a tool called [Deequ](https://github.com/awslabs/deequ), which is a library for measuring the data quality of large datasets.\n",
    "\n",
    "<div align=\"center\" style=\"width: 600px; font-size: 80%; text-align: center; margin: 0 auto\">\n",
    "<img src=\"https://github.com/Explore-AI/Pictures/raw/master/data_engineering/transform/predict/DataQuality.jpg\"\n",
    "     alt=\"Data Quality\"\n",
    "     style=\"float: center; padding-bottom=0.5em\"\n",
    "     width=100%/>\n",
    "     <p><em>Figure 1. Six dimensions of data quality</em></p>\n",
    "</div>\n",
    "\n",
    "You present this tool to your manager; he is quite impressed and gives you the go-ahead to use this in your implementation. You are now required to perform some data quality tests using this automated data testing tool.\n",
    " "
   ]
  },
  {
   "cell_type": "markdown",
   "metadata": {},
   "source": [
    "> ## 🚩️ Important Notice 🚩️\n",
    ">\n",
    ">To successfully run `pydeequ` without any errors, please make sure that you have an environment that is running pyspark version 3.0.\n",
    "> You are advised to **create a new conda environment** and install this specific version of pyspark to avoid any technical issues:\n",
    ">\n",
    "> `pip install pyspark==3.0`\n",
    "\n",
    "<br>\n",
    "\n",
    "## Import dependencies\n",
    "\n",
    "If you do not have `pydeequ` already installed, install it using the following command:\n",
    "- `pip install pydeequ`"
   ]
  },
  {
   "cell_type": "code",
   "execution_count": 52,
   "metadata": {},
   "outputs": [],
   "source": [
    "import pandas as pd\n",
    "import numpy as np\n",
    "import matplotlib.pyplot as plt\n",
    "import pydeequ\n",
    "from pydeequ.analyzers import *\n",
    "from pydeequ.profiles import *\n",
    "from pydeequ.suggestions import *\n",
    "from pydeequ.checks import *\n",
    "from pydeequ.verification import *\n",
    "\n",
    "from pyspark.sql import SparkSession\n",
    "from pyspark.sql import functions as F\n",
    "from pyspark.sql.types import DecimalType, DoubleType, IntegerType, DateType, NumericType, StructType, StringType, StructField, BooleanType"
   ]
  },
  {
   "cell_type": "code",
   "execution_count": 3,
   "metadata": {
    "scrolled": true
   },
   "outputs": [],
   "source": [
    "spark = (SparkSession\n",
    "    .builder\n",
    "    .config(\"spark.jars.packages\", pydeequ.deequ_maven_coord)\n",
    "    .config(\"spark.jars.excludes\", pydeequ.f2j_maven_coord)\n",
    "    .getOrCreate())"
   ]
  },
  {
   "cell_type": "markdown",
   "metadata": {},
   "source": [
    "## Read data into spark dataframe\n",
    "\n",
    "In this notebook, we set out to run some data quality tests, with the possiblity of running end to end on the years 1963, 1974, 1985, 1996, 2007, and 2018. \n",
    "\n",
    "> ℹ️ **Instructions** ℹ️\n",
    ">\n",
    ">1. Make use of the `Data_ingestion_student_version.ipynb` notebook to create the parquet files for the following years:\n",
    ">       - 1963\n",
    ">       - 1974\n",
    ">       - 1985\n",
    ">       - 1996\n",
    ">       - 2007\n",
    ">       - 2018\n",
    ">\n",
    ">2. Ingest the data for the for the years given above. You should only do it one year at a time.\n",
    ">3. Ingest the metadata file.\n",
    "\n",
    "\n",
    "When developing your code, it will be sufficient to focus on a single year. However, after your development is done, you will need to run this notebook for all of the given years above so that you can answer all the questions given in the Data Testing MCQ."
   ]
  },
  {
   "cell_type": "code",
   "execution_count": 4,
   "metadata": {},
   "outputs": [],
   "source": [
    "#TODO: Write your code here\n",
    "# Use this variable (year) to determine which year your are focusing on\n",
    "year = 1963"
   ]
  },
  {
   "cell_type": "markdown",
   "metadata": {},
   "source": [
    "## **Run tests on the dataset**\n",
    "\n",
    "## Test 1 - Null values ⛔️\n",
    "For the first test, you are required to check the data for completeness.\n",
    "\n",
    "> ℹ️ **Instructions** ℹ️\n",
    ">\n",
    ">1. Make use of the `Verification Suite` and write code to check for missing values in the data. \n",
    ">2. Display the results of your test.\n",
    ">\n",
    "> *You may use as many cells as necessary*\n"
   ]
  },
  {
   "cell_type": "code",
   "execution_count": 5,
   "metadata": {},
   "outputs": [],
   "source": [
    "def file_merger(path):\n",
    "    try:\n",
    "        file = spark.read.parquet(path, header=True, recursiveFileLookup=True)\n",
    "        return file\n",
    "    except FileNotFoundError as e:\n",
    "            print(f'Folder not found: Error {e}')"
   ]
  },
  {
   "cell_type": "code",
   "execution_count": 6,
   "metadata": {},
   "outputs": [
    {
     "name": "stderr",
     "output_type": "stream",
     "text": [
      "24/07/21 19:14:55 WARN SparkStringUtils: Truncated the string representation of a plan since it was too large. This behavior can be adjusted by setting 'spark.sql.debug.maxToStringFields'.\n",
      "                                                                                \r"
     ]
    },
    {
     "name": "stdout",
     "output_type": "stream",
     "text": [
      "+-------+------------------+-------------------+-------------------+-------------------+-------------------+-----------------+-----+\n",
      "|summary|open              |high               |low                |close              |adj_close          |volume           |stock|\n",
      "+-------+------------------+-------------------+-------------------+-------------------+-------------------+-----------------+-----+\n",
      "|count  |5020              |5020               |5020               |5020               |5020               |5020             |5020 |\n",
      "|mean   |1.1365598366658882|19.17383405059962  |18.943191553180316 |19.06198000288253  |7.208458180424869  |525223.0677290837|NULL |\n",
      "|stddev |4.757480282400388 |61.95001257800802  |61.21457985181493  |61.60101770760707  |29.681165595553527 |910433.9606092003|NULL |\n",
      "|min    |0.0               |0.06785380095243454|0.06563635170459747|0.06607984006404878|4.89296041905618E-7|0                |AA   |\n",
      "|max    |303.125           |315.625            |311.875            |313.75             |148.7704620361328  |20692800         |XOM  |\n",
      "+-------+------------------+-------------------+-------------------+-------------------+-------------------+-----------------+-----+\n",
      "\n"
     ]
    }
   ],
   "source": [
    "path = f'../output/{year}'\n",
    "df = file_merger(path)\n",
    "df.describe().show(truncate=False)"
   ]
  },
  {
   "cell_type": "code",
   "execution_count": 7,
   "metadata": {},
   "outputs": [],
   "source": [
    "# Initialize the Verification Suite\n",
    "verification_suite = VerificationSuite(spark)"
   ]
  },
  {
   "cell_type": "code",
   "execution_count": 8,
   "metadata": {},
   "outputs": [],
   "source": [
    "# Create a single Check object for completeness\n",
    "check = Check(spark, CheckLevel.Warning, 'Completeness Check')\n",
    "\n",
    "for column in df.columns:\n",
    "    check = check.isComplete(column)"
   ]
  },
  {
   "cell_type": "code",
   "execution_count": 9,
   "metadata": {},
   "outputs": [],
   "source": [
    "# Run the verification suite\n",
    "results = (verification_suite\n",
    "          .onData(df)\n",
    "          .addCheck(check)\n",
    "          .run())"
   ]
  },
  {
   "cell_type": "code",
   "execution_count": 10,
   "metadata": {},
   "outputs": [
    {
     "name": "stdout",
     "output_type": "stream",
     "text": [
      "+------------------+-----------+------------+---------------------------------------------------------+-----------------+------------------+\n",
      "|check             |check_level|check_status|constraint                                               |constraint_status|constraint_message|\n",
      "+------------------+-----------+------------+---------------------------------------------------------+-----------------+------------------+\n",
      "|Completeness Check|Warning    |Success     |CompletenessConstraint(Completeness(date,None,None))     |Success          |                  |\n",
      "|Completeness Check|Warning    |Success     |CompletenessConstraint(Completeness(open,None,None))     |Success          |                  |\n",
      "|Completeness Check|Warning    |Success     |CompletenessConstraint(Completeness(high,None,None))     |Success          |                  |\n",
      "|Completeness Check|Warning    |Success     |CompletenessConstraint(Completeness(low,None,None))      |Success          |                  |\n",
      "|Completeness Check|Warning    |Success     |CompletenessConstraint(Completeness(close,None,None))    |Success          |                  |\n",
      "|Completeness Check|Warning    |Success     |CompletenessConstraint(Completeness(adj_close,None,None))|Success          |                  |\n",
      "|Completeness Check|Warning    |Success     |CompletenessConstraint(Completeness(volume,None,None))   |Success          |                  |\n",
      "|Completeness Check|Warning    |Success     |CompletenessConstraint(Completeness(stock,None,None))    |Success          |                  |\n",
      "+------------------+-----------+------------+---------------------------------------------------------+-----------------+------------------+\n",
      "\n"
     ]
    },
    {
     "name": "stderr",
     "output_type": "stream",
     "text": [
      "/home/spark/python/pyspark/sql/dataframe.py:147: UserWarning: DataFrame constructor is internal. Do not directly use it.\n",
      "  warnings.warn(\"DataFrame constructor is internal. Do not directly use it.\")\n"
     ]
    }
   ],
   "source": [
    "# Convert result to a DataFrame and display it\n",
    "result_df = VerificationResult.checkResultsAsDataFrame(spark, results)\n",
    "result_df.show(truncate=False)"
   ]
  },
  {
   "cell_type": "markdown",
   "metadata": {},
   "source": [
    "## Test 2 - Zero Values 🅾️\n",
    "\n",
    "For the second test, you are required to check for zero values within the dataset.\n",
    "\n",
    "> ℹ️ **Instructions** ℹ️\n",
    ">\n",
    ">1. Make use of the `Verification Suite` and write code to check for zero values within the data. \n",
    ">2. Display the results of your test.\n",
    ">\n",
    "> *You may use as many cells as necessary*"
   ]
  },
  {
   "cell_type": "code",
   "execution_count": 56,
   "metadata": {},
   "outputs": [
    {
     "name": "stdout",
     "output_type": "stream",
     "text": [
      "{'check_status': 'Success', 'check_level': 'Error', 'constraint_status': 'Success', 'check': 'Check for zero values', 'constraint_message': '', 'constraint': 'ComplianceConstraint(Compliance(open is non-negative,COALESCE(CAST(open AS DECIMAL(20,10)), 0.0) >= 0,None,List(open),None))'}\n",
      "{'check_status': 'Success', 'check_level': 'Error', 'constraint_status': 'Success', 'check': 'Check for zero values', 'constraint_message': '', 'constraint': 'ComplianceConstraint(Compliance(high is non-negative,COALESCE(CAST(high AS DECIMAL(20,10)), 0.0) >= 0,None,List(high),None))'}\n",
      "{'check_status': 'Success', 'check_level': 'Error', 'constraint_status': 'Success', 'check': 'Check for zero values', 'constraint_message': '', 'constraint': 'ComplianceConstraint(Compliance(low is non-negative,COALESCE(CAST(low AS DECIMAL(20,10)), 0.0) >= 0,None,List(low),None))'}\n",
      "{'check_status': 'Success', 'check_level': 'Error', 'constraint_status': 'Success', 'check': 'Check for zero values', 'constraint_message': '', 'constraint': 'ComplianceConstraint(Compliance(close is non-negative,COALESCE(CAST(close AS DECIMAL(20,10)), 0.0) >= 0,None,List(close),None))'}\n",
      "{'check_status': 'Success', 'check_level': 'Error', 'constraint_status': 'Success', 'check': 'Check for zero values', 'constraint_message': '', 'constraint': 'ComplianceConstraint(Compliance(adj_close is non-negative,COALESCE(CAST(adj_close AS DECIMAL(20,10)), 0.0) >= 0,None,List(adj_close),None))'}\n",
      "{'check_status': 'Success', 'check_level': 'Error', 'constraint_status': 'Success', 'check': 'Check for zero values', 'constraint_message': '', 'constraint': 'ComplianceConstraint(Compliance(volume is non-negative,COALESCE(CAST(volume AS DECIMAL(20,10)), 0.0) >= 0,None,List(volume),None))'}\n"
     ]
    }
   ],
   "source": [
    "# List of numerical columns to check for zero values\n",
    "numerical_columns = [\"open\", \"high\", \"low\", \"close\", \"adj_close\", \"volume\"]\n",
    "\n",
    "# Define a check to ensure that no numerical column contains zero values\n",
    "check = Check(spark, CheckLevel.Error, \"Check for zero values\")\n",
    "\n",
    "for column in numerical_columns:\n",
    "    # Add a check to ensure that the column does not contain zero values\n",
    "    check = check.isNonNegative(column)\n",
    "\n",
    "# Create the Verification Suite\n",
    "verification_suite = VerificationSuite(spark) \\\n",
    "    .onData(df) \\\n",
    "    .addCheck(check)\n",
    "\n",
    "# Run the Verification Suite\n",
    "verification_result = verification_suite.run()\n",
    "\n",
    "# Extract and show the check results\n",
    "for result in verification_result.checkResults:\n",
    "    print(result)"
   ]
  },
  {
   "cell_type": "code",
   "execution_count": 73,
   "metadata": {},
   "outputs": [],
   "source": [
    "# Create a Check object for zero values\n",
    "columns = [column for column in df.columns if column != 'stock' and column != 'date']\n",
    "\n",
    "check = Check(spark, CheckLevel.Warning, 'Zero Values Check')\n",
    "for col in columns:\n",
    "     check = check.satisfies(f'{col} != 0', f'{col} should not contain zero values')"
   ]
  },
  {
   "cell_type": "code",
   "execution_count": 74,
   "metadata": {},
   "outputs": [
    {
     "ename": "AttributeError",
     "evalue": "'VerificationRunBuilder' object has no attribute 'onData'",
     "output_type": "error",
     "traceback": [
      "\u001b[0;31m---------------------------------------------------------------------------\u001b[0m",
      "\u001b[0;31mAttributeError\u001b[0m                            Traceback (most recent call last)",
      "Cell \u001b[0;32mIn[74], line 2\u001b[0m\n\u001b[1;32m      1\u001b[0m \u001b[38;5;66;03m# Run the verification suite\u001b[39;00m\n\u001b[0;32m----> 2\u001b[0m results \u001b[38;5;241m=\u001b[39m (\u001b[43mverification_suite\u001b[49m\n\u001b[1;32m      3\u001b[0m \u001b[43m          \u001b[49m\u001b[38;5;241;43m.\u001b[39;49m\u001b[43monData\u001b[49m(df)\n\u001b[1;32m      4\u001b[0m           \u001b[38;5;241m.\u001b[39maddCheck(check)\n\u001b[1;32m      5\u001b[0m           \u001b[38;5;241m.\u001b[39mrun())\n",
      "\u001b[0;31mAttributeError\u001b[0m: 'VerificationRunBuilder' object has no attribute 'onData'"
     ]
    }
   ],
   "source": [
    "# Run the verification suite\n",
    "results = (verification_suite\n",
    "          .onData(df)\n",
    "          .addCheck(check)\n",
    "          .run())"
   ]
  },
  {
   "cell_type": "code",
   "execution_count": 71,
   "metadata": {},
   "outputs": [
    {
     "ename": "AttributeError",
     "evalue": "'VerificationRunBuilder' object has no attribute 'verificationRun'",
     "output_type": "error",
     "traceback": [
      "\u001b[0;31m---------------------------------------------------------------------------\u001b[0m",
      "\u001b[0;31mAttributeError\u001b[0m                            Traceback (most recent call last)",
      "Cell \u001b[0;32mIn[71], line 2\u001b[0m\n\u001b[1;32m      1\u001b[0m verification_result \u001b[38;5;241m=\u001b[39m verification_suite\u001b[38;5;241m.\u001b[39mrun()\n\u001b[0;32m----> 2\u001b[0m result_df \u001b[38;5;241m=\u001b[39m \u001b[43mVerificationResult\u001b[49m\u001b[38;5;241;43m.\u001b[39;49m\u001b[43mcheckResultsAsDataFrame\u001b[49m\u001b[43m(\u001b[49m\u001b[43mspark\u001b[49m\u001b[43m,\u001b[49m\u001b[43m \u001b[49m\u001b[43mverification_suite\u001b[49m\u001b[43m)\u001b[49m\n\u001b[1;32m      3\u001b[0m result_df\u001b[38;5;241m.\u001b[39mshow()\n",
      "File \u001b[0;32m/usr/local/lib/python3.9/site-packages/pydeequ/verification.py:137\u001b[0m, in \u001b[0;36mVerificationResult.checkResultsAsDataFrame\u001b[0;34m(cls, spark_session, verificationResult, forChecks, pandas)\u001b[0m\n\u001b[1;32m    131\u001b[0m     \u001b[38;5;28;01mraise\u001b[39;00m \u001b[38;5;167;01mNotImplementedError\u001b[39;00m(\u001b[38;5;124m\"\u001b[39m\u001b[38;5;124mforChecks have not been implemented yet.\u001b[39m\u001b[38;5;124m\"\u001b[39m)\n\u001b[1;32m    132\u001b[0m forChecks \u001b[38;5;241m=\u001b[39m \u001b[38;5;28mgetattr\u001b[39m(\n\u001b[1;32m    133\u001b[0m     spark_session\u001b[38;5;241m.\u001b[39m_jvm\u001b[38;5;241m.\u001b[39mcom\u001b[38;5;241m.\u001b[39mamazon\u001b[38;5;241m.\u001b[39mdeequ\u001b[38;5;241m.\u001b[39mVerificationResult, \u001b[38;5;124m\"\u001b[39m\u001b[38;5;124mcheckResultsAsDataFrame$default$3\u001b[39m\u001b[38;5;124m\"\u001b[39m\n\u001b[1;32m    134\u001b[0m )()\n\u001b[1;32m    136\u001b[0m df \u001b[38;5;241m=\u001b[39m spark_session\u001b[38;5;241m.\u001b[39m_jvm\u001b[38;5;241m.\u001b[39mcom\u001b[38;5;241m.\u001b[39mamazon\u001b[38;5;241m.\u001b[39mdeequ\u001b[38;5;241m.\u001b[39mVerificationResult\u001b[38;5;241m.\u001b[39mcheckResultsAsDataFrame(\n\u001b[0;32m--> 137\u001b[0m     spark_session\u001b[38;5;241m.\u001b[39m_jsparkSession, \u001b[43mverificationResult\u001b[49m\u001b[38;5;241;43m.\u001b[39;49m\u001b[43mverificationRun\u001b[49m, forChecks\n\u001b[1;32m    138\u001b[0m )\n\u001b[1;32m    139\u001b[0m sql_ctx \u001b[38;5;241m=\u001b[39m SQLContext(\n\u001b[1;32m    140\u001b[0m     sparkContext\u001b[38;5;241m=\u001b[39mspark_session\u001b[38;5;241m.\u001b[39m_sc,\n\u001b[1;32m    141\u001b[0m     sparkSession\u001b[38;5;241m=\u001b[39mspark_session,\n\u001b[1;32m    142\u001b[0m     jsqlContext\u001b[38;5;241m=\u001b[39mspark_session\u001b[38;5;241m.\u001b[39m_jsparkSession\u001b[38;5;241m.\u001b[39msqlContext(),\n\u001b[1;32m    143\u001b[0m )\n\u001b[1;32m    144\u001b[0m \u001b[38;5;28;01mreturn\u001b[39;00m DataFrame(df, sql_ctx)\u001b[38;5;241m.\u001b[39mtoPandas() \u001b[38;5;28;01mif\u001b[39;00m pandas \u001b[38;5;28;01melse\u001b[39;00m DataFrame(df, sql_ctx)\n",
      "\u001b[0;31mAttributeError\u001b[0m: 'VerificationRunBuilder' object has no attribute 'verificationRun'"
     ]
    }
   ],
   "source": [
    "result_df = VerificationResult.checkResultsAsDataFrame(spark, results)\n",
    "result_df.show()"
   ]
  },
  {
   "cell_type": "markdown",
   "metadata": {},
   "source": [
    "## Test 3 - Negative values ➖️\n",
    "The third test requires you to check that all values in the data are positive.\n",
    "\n",
    "> ℹ️ **Instructions** ℹ️\n",
    ">\n",
    ">1. Make use of the `Verification Suite` and write code to check negative values within the dataset. \n",
    ">2. Display the results of your test.\n",
    ">\n",
    "> *You may use as many cells as necessary*"
   ]
  },
  {
   "cell_type": "code",
   "execution_count": 14,
   "metadata": {},
   "outputs": [],
   "source": [
    "# Create a Check object for zero values\n",
    "columns = [column for column in df.columns if column != 'stock']\n",
    "\n",
    "check = Check(spark, CheckLevel.Warning, 'Negative Values Check')\n",
    "for column in columns:\n",
    "    check = check.isNonNegative(column)"
   ]
  },
  {
   "cell_type": "code",
   "execution_count": 15,
   "metadata": {},
   "outputs": [],
   "source": [
    "# Run the verification suite\n",
    "results = (verification_suite\n",
    "          .onData(df)\n",
    "          .addCheck(check)\n",
    "          .run())"
   ]
  },
  {
   "cell_type": "code",
   "execution_count": 16,
   "metadata": {},
   "outputs": [
    {
     "name": "stdout",
     "output_type": "stream",
     "text": [
      "+--------------------+-----------+------------+--------------------+-----------------+------------------+\n",
      "|               check|check_level|check_status|          constraint|constraint_status|constraint_message|\n",
      "+--------------------+-----------+------------+--------------------+-----------------+------------------+\n",
      "|Negative Values C...|    Warning|     Success|ComplianceConstra...|          Success|                  |\n",
      "|Negative Values C...|    Warning|     Success|ComplianceConstra...|          Success|                  |\n",
      "|Negative Values C...|    Warning|     Success|ComplianceConstra...|          Success|                  |\n",
      "|Negative Values C...|    Warning|     Success|ComplianceConstra...|          Success|                  |\n",
      "|Negative Values C...|    Warning|     Success|ComplianceConstra...|          Success|                  |\n",
      "|Negative Values C...|    Warning|     Success|ComplianceConstra...|          Success|                  |\n",
      "|Negative Values C...|    Warning|     Success|ComplianceConstra...|          Success|                  |\n",
      "+--------------------+-----------+------------+--------------------+-----------------+------------------+\n",
      "\n"
     ]
    }
   ],
   "source": [
    "# Convert result to a DataFrame and display it\n",
    "result_df = VerificationResult.checkResultsAsDataFrame(spark, results)\n",
    "result_df.show()"
   ]
  },
  {
   "cell_type": "markdown",
   "metadata": {},
   "source": [
    "## Test 4 - Determine Maximum Values ⚠️\n",
    "\n",
    "For the fourth test, we want to find the maximum values in the dataset for the numerical fields. Extremum values can often be used to define an upper bound for the column values so we can define them as the threshold values. \n",
    "\n",
    "> ℹ️ **Instructions** ℹ️\n",
    ">\n",
    ">1. Make use of the `Column Profiler Runner` to generate summary statistics for all the available columns. \n",
    ">2. Extract the maximum values for all the numeric columns in the data.\n",
    ">\n",
    "> *You may use as many cells as necessary*"
   ]
  },
  {
   "cell_type": "code",
   "execution_count": 98,
   "metadata": {},
   "outputs": [
    {
     "name": "stdout",
     "output_type": "stream",
     "text": [
      "Unable to map type DateType\n"
     ]
    }
   ],
   "source": [
    "# Profile the data using ColumnProfilerRunner\n",
    "results = ColumnProfilerRunner(spark) \\\n",
    "    .onData(df) \\\n",
    "    .run()"
   ]
  },
  {
   "cell_type": "code",
   "execution_count": 113,
   "metadata": {},
   "outputs": [],
   "source": [
    "# Extract summary statistics for all columns\n",
    "profiled_columns = result.profiles\n",
    "row_count = df.count()"
   ]
  },
  {
   "cell_type": "code",
   "execution_count": 123,
   "metadata": {},
   "outputs": [
    {
     "name": "stdout",
     "output_type": "stream",
     "text": [
      "Column 'open':\n",
      "  Count: 5020\n",
      "  Maximum value: 303.125\n",
      "  Minimum value: 0.0\n",
      "  Mean value: 1.1365598366658882\n",
      "  Standard deviation: 4.75700640618203\n",
      "\n",
      "Column 'low':\n",
      "  Count: 5020\n",
      "  Maximum value: 311.875\n",
      "  Minimum value: 0.06563635170459747\n",
      "  Mean value: 18.943191553180316\n",
      "  Standard deviation: 61.2084824784394\n",
      "\n",
      "Column 'close':\n",
      "  Count: 5020\n",
      "  Maximum value: 313.75\n",
      "  Minimum value: 0.06607984006404878\n",
      "  Mean value: 19.06198000288253\n",
      "  Standard deviation: 61.59488184248825\n",
      "\n",
      "Column 'volume':\n",
      "  Count: 5020\n",
      "  Maximum value: 20692800.0\n",
      "  Minimum value: 0.0\n",
      "  Mean value: 525223.0677290837\n",
      "  Standard deviation: 910343.2754194132\n",
      "\n",
      "Column 'adj_close':\n",
      "  Count: 5020\n",
      "  Maximum value: 148.7704620361328\n",
      "  Minimum value: 4.89296041905618e-07\n",
      "  Mean value: 7.208458180424869\n",
      "  Standard deviation: 29.678209156919213\n",
      "\n",
      "Column 'high':\n",
      "  Count: 5020\n",
      "  Maximum value: 315.625\n",
      "  Minimum value: 0.06785380095243454\n",
      "  Mean value: 19.17383405059962\n",
      "  Standard deviation: 61.943841950712674\n",
      "\n"
     ]
    }
   ],
   "source": [
    "# Display summary statistics\n",
    "for column, profile in profiled_columns.items():\n",
    "    if column != 'stock' and column != 'date':\n",
    "        print(f\"Column '{column}':\")\n",
    "        print(f\"  Count: {row_count}\")\n",
    "        print(f\"  Maximum value: {profile.maximum}\")\n",
    "        print(f\"  Minimum value: {profile.minimum}\")\n",
    "        print(f\"  Mean value: {profile.mean}\")\n",
    "        print(f\"  Standard deviation: {profile.stdDev}\")\n",
    "        print()"
   ]
  },
  {
   "cell_type": "markdown",
   "metadata": {},
   "source": [
    "## Test 5 - Stock Tickers 💹️\n",
    "\n",
    "For the fifth test, we want to determine if the stock tickers contained in our dataset are consistent. To do this, you will need to make use of use of the metadata file to check that the stock names used in the dataframe are valid. \n",
    "\n",
    "> ℹ️ **Instructions** ℹ️\n",
    ">\n",
    ">1. Make use of the `Verification Suite` and write code to determine if the stock tickers contained in the dataset appear in the metadata file.\n",
    ">2. Display the results of your test.\n",
    ">\n",
    "> *You may use as many cells as necessary*"
   ]
  },
  {
   "cell_type": "code",
   "execution_count": 7,
   "metadata": {},
   "outputs": [],
   "source": [
    "def read_metadata(path):\n",
    "    try:\n",
    "        df = spark.read.csv(path, header=True)\n",
    "        return df\n",
    "    except FileNotFoundError as e:\n",
    "            print(f'Folder not found: Error {e}')"
   ]
  },
  {
   "cell_type": "code",
   "execution_count": 20,
   "metadata": {},
   "outputs": [],
   "source": [
    "metadata_path = '../symbols_valid_meta.csv'\n",
    "metadata_df = read_metadata(metadata_path)"
   ]
  },
  {
   "cell_type": "code",
   "execution_count": 22,
   "metadata": {},
   "outputs": [
    {
     "name": "stderr",
     "output_type": "stream",
     "text": [
      "                                                                                \r"
     ]
    }
   ],
   "source": [
    "# Extract valid tickers\n",
    "valid_tickers = metadata_df.select('NASDAQ Symbol').rdd.flatMap(lambda x: x).collect()\n",
    "valid_tickers_set = set(valid_tickers)"
   ]
  },
  {
   "cell_type": "code",
   "execution_count": 24,
   "metadata": {},
   "outputs": [],
   "source": [
    "# Broadcast the valid tickers set\n",
    "broadcast_valid_tickers = spark.sparkContext.broadcast(valid_tickers_set)"
   ]
  },
  {
   "cell_type": "code",
   "execution_count": 25,
   "metadata": {},
   "outputs": [],
   "source": [
    "# Check if a ticker is valid\n",
    "def is_valid_ticker(ticker):\n",
    "    return ticker in broadcast_valid_tickers.value"
   ]
  },
  {
   "cell_type": "code",
   "execution_count": 28,
   "metadata": {},
   "outputs": [],
   "source": [
    "# Register the function as a UDF\n",
    "valid_ticker_udf = F.udf(is_valid_ticker, BooleanType())"
   ]
  },
  {
   "cell_type": "code",
   "execution_count": 33,
   "metadata": {},
   "outputs": [],
   "source": [
    "# Check for valid tickers\n",
    "df_ticker = df.withColumn('is_valid_ticker', valid_ticker_udf(F.col('stock')))"
   ]
  },
  {
   "cell_type": "code",
   "execution_count": 34,
   "metadata": {},
   "outputs": [],
   "source": [
    "# Create the Verification Suite\n",
    "verification_suite = VerificationSuite(spark) \\\n",
    "    .onData(df_ticker) \\\n",
    "    .addCheck(\n",
    "        Check(spark, CheckLevel.Error, 'Checking stock tickers')\n",
    "        .isComplete('stock')\n",
    "        .isContainedIn('stock', list(valid_tickers_set))\n",
    "    )\n",
    "\n",
    "verification_result = verification_suite.run()"
   ]
  },
  {
   "cell_type": "code",
   "execution_count": 35,
   "metadata": {},
   "outputs": [
    {
     "name": "stdout",
     "output_type": "stream",
     "text": [
      "+--------------------+-----------+------------+--------------------+-----------------+------------------+\n",
      "|               check|check_level|check_status|          constraint|constraint_status|constraint_message|\n",
      "+--------------------+-----------+------------+--------------------+-----------------+------------------+\n",
      "|Checking stock ti...|      Error|     Success|CompletenessConst...|          Success|                  |\n",
      "|Checking stock ti...|      Error|     Success|ComplianceConstra...|          Success|                  |\n",
      "+--------------------+-----------+------------+--------------------+-----------------+------------------+\n",
      "\n"
     ]
    }
   ],
   "source": [
    "# Extract the check results as a data frame\n",
    "check_results = VerificationResult.checkResultsAsDataFrame(spark, verification_result)\n",
    "check_results.show()"
   ]
  },
  {
   "cell_type": "markdown",
   "metadata": {},
   "source": [
    "## Test 6 - Duplication 👥️\n",
    "Lastly, we want to determine the uniqueness of the items found in the dataframe. You need to make use of the Verification Suite to check for the validity of the stock tickers. \n",
    "\n",
    "Similar to the previous notebook - `Data_profiling_student_version.ipynb`, the first thing to check will be if the primary key values within the dataset are unique - in our case, that will be a combination of the stock name and the date. Secondly, we want to check if the entries are all unique, which is done by checking for duplicates across that whole dataset.\n",
    "\n",
    "> ℹ️ **Instructions** ℹ️\n",
    ">\n",
    ">1. Make use of the `Verification Suite` and write code to determine the uniqueness of entries contained within the dataset.\n",
    ">2. Display the results of your test.\n",
    ">\n",
    "> *You may use as many cells as necessary*\n",
    "\n"
   ]
  },
  {
   "cell_type": "code",
   "execution_count": 36,
   "metadata": {},
   "outputs": [],
   "source": [
    "# Verify unique combination of stock and date\n",
    "verification_suite = VerificationSuite(spark) \\\n",
    "    .onData(df) \\\n",
    "    .addCheck(\n",
    "        Check(spark, CheckLevel.Error, 'Checking stock and date uniqueness')\n",
    "        .isComplete('stock')\n",
    "        .isComplete('date')\n",
    "        .hasDistinctness(['stock', 'date'], lambda x: x == 1.0)  # Ensures each (stock, date) pair is unique\n",
    "    )\n",
    "\n",
    "verification_result = verification_suite.run()"
   ]
  },
  {
   "cell_type": "code",
   "execution_count": 40,
   "metadata": {},
   "outputs": [
    {
     "name": "stdout",
     "output_type": "stream",
     "text": [
      "+----------------------------------+-----------+------------+-----------------------------------------------------------+-----------------+------------------+\n",
      "|check                             |check_level|check_status|constraint                                                 |constraint_status|constraint_message|\n",
      "+----------------------------------+-----------+------------+-----------------------------------------------------------+-----------------+------------------+\n",
      "|Checking stock and date uniqueness|Error      |Success     |CompletenessConstraint(Completeness(stock,None,None))      |Success          |                  |\n",
      "|Checking stock and date uniqueness|Error      |Success     |CompletenessConstraint(Completeness(date,None,None))       |Success          |                  |\n",
      "|Checking stock and date uniqueness|Error      |Success     |DistinctnessConstraint(Distinctness(Stream(stock, ?),None))|Success          |                  |\n",
      "+----------------------------------+-----------+------------+-----------------------------------------------------------+-----------------+------------------+\n",
      "\n"
     ]
    }
   ],
   "source": [
    "# Extract the check results as a data frame\n",
    "check_results = VerificationResult.checkResultsAsDataFrame(spark, verification_result)\n",
    "check_results.show(truncate=False)"
   ]
  },
  {
   "cell_type": "code",
   "execution_count": 38,
   "metadata": {},
   "outputs": [],
   "source": [
    "# Check for duplicates across the entire dataset\n",
    "verification_suite_all = VerificationSuite(spark) \\\n",
    "    .onData(df) \\\n",
    "    .addCheck(\n",
    "        Check(spark, CheckLevel.Error, 'Checking for duplicates across the entire dataset')\n",
    "        .hasDistinctness(df.columns, lambda x: x == 1.0)  # Ensures all rows are unique\n",
    "    )\n",
    "\n",
    "verification_result_all = verification_suite_all.run()"
   ]
  },
  {
   "cell_type": "code",
   "execution_count": 39,
   "metadata": {},
   "outputs": [
    {
     "name": "stdout",
     "output_type": "stream",
     "text": [
      "+-------------------------------------------------+-----------+------------+----------------------------------------------------------+-----------------+------------------+\n",
      "|check                                            |check_level|check_status|constraint                                                |constraint_status|constraint_message|\n",
      "+-------------------------------------------------+-----------+------------+----------------------------------------------------------+-----------------+------------------+\n",
      "|Checking for duplicates across the entire dataset|Error      |Success     |DistinctnessConstraint(Distinctness(Stream(date, ?),None))|Success          |                  |\n",
      "+-------------------------------------------------+-----------+------------+----------------------------------------------------------+-----------------+------------------+\n",
      "\n"
     ]
    }
   ],
   "source": [
    "# Extract the check results as a data frame\n",
    "check_results_all = VerificationResult.checkResultsAsDataFrame(spark, verification_result_all)\n",
    "check_results_all.show(truncate=False)"
   ]
  }
 ],
 "metadata": {
  "interpreter": {
   "hash": "0b41f59b882618484a4d28c089dca4efdf4ffb1e043e654ec6730d7439b802f5"
  },
  "kernelspec": {
   "display_name": "Python 3 (ipykernel)",
   "language": "python",
   "name": "python3"
  },
  "language_info": {
   "codemirror_mode": {
    "name": "ipython",
    "version": 3
   },
   "file_extension": ".py",
   "mimetype": "text/x-python",
   "name": "python",
   "nbconvert_exporter": "python",
   "pygments_lexer": "ipython3",
   "version": "3.9.1"
  }
 },
 "nbformat": 4,
 "nbformat_minor": 4
}
