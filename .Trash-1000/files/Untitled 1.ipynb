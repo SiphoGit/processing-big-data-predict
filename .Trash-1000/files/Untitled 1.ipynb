{
 "cells": [
  {
   "cell_type": "code",
   "execution_count": 1,
   "id": "618efb0e-a3a2-42cd-ab0f-956b90e4a134",
   "metadata": {},
   "outputs": [
    {
     "ename": "ModuleNotFoundError",
     "evalue": "No module named 'pdf2image'",
     "output_type": "error",
     "traceback": [
      "\u001b[0;31m---------------------------------------------------------------------------\u001b[0m",
      "\u001b[0;31mModuleNotFoundError\u001b[0m                       Traceback (most recent call last)",
      "Cell \u001b[0;32mIn[1], line 1\u001b[0m\n\u001b[0;32m----> 1\u001b[0m \u001b[38;5;28;01mfrom\u001b[39;00m \u001b[38;5;21;01mpdf2image\u001b[39;00m \u001b[38;5;28;01mimport\u001b[39;00m convert_from_path\n\u001b[1;32m      2\u001b[0m \u001b[38;5;28;01mfrom\u001b[39;00m \u001b[38;5;21;01mpytesseract\u001b[39;00m \u001b[38;5;28;01mimport\u001b[39;00m image_to_string\n",
      "\u001b[0;31mModuleNotFoundError\u001b[0m: No module named 'pdf2image'"
     ]
    }
   ],
   "source": [
    "from pdf2image import convert_from_path\n",
    "from pytesseract import image_to_string"
   ]
  },
  {
   "cell_type": "code",
   "execution_count": null,
   "id": "5a6ea768-4ee5-453d-af40-389a205fc96c",
   "metadata": {},
   "outputs": [],
   "source": [
    "def convert_pdf_to_img(pdf_file):\n",
    "    \"\"\"\n",
    "    @desc: this function converts a PDF into Image\n",
    "    \n",
    "    @params:\n",
    "        - pdf_file: the file to be converted\n",
    "    \n",
    "    @returns:\n",
    "        - an interable containing image format of all the pages of the PDF\n",
    "    \"\"\"\n",
    "    return convert_from_path(pdf_file)"
   ]
  },
  {
   "cell_type": "code",
   "execution_count": null,
   "id": "3e63cea4-9c3e-4acd-a34a-443b102df379",
   "metadata": {},
   "outputs": [],
   "source": [
    "def convert_image_to_text(file):\n",
    "    \"\"\"\n",
    "    @desc: this function extracts text from image\n",
    "    \n",
    "    @params:\n",
    "        - file: the image file to extract the content\n",
    "    \n",
    "    @returns:\n",
    "        - the textual content of single image\n",
    "    \"\"\"\n",
    "    \n",
    "    text = image_to_string(file)\n",
    "    return text"
   ]
  },
  {
   "cell_type": "code",
   "execution_count": null,
   "id": "c945cf17-d7d4-4f1b-a38d-6f642d18747d",
   "metadata": {},
   "outputs": [],
   "source": [
    "def get_text_from_any_pdf(pdf_file):\n",
    "    \"\"\"\n",
    "    @desc: this function is our final system combining the previous functions\n",
    "    \n",
    "    @params:\n",
    "        - file: the original PDF File\n",
    "    \n",
    "    @returns:\n",
    "        - the textual content of ALL the pages\n",
    "    \"\"\"\n",
    "    images = convert_pdf_to_img(pdf_file)\n",
    "    final_text = \"\"\n",
    "    for pg, img in enumerate(images):\n",
    "        \n",
    "        final_text += convert_image_to_text(img)\n",
    "        #print(\"Page n°{}\".format(pg))\n",
    "        #print(convert_image_to_text(img))\n",
    "    \n",
    "    return final_text"
   ]
  },
  {
   "cell_type": "code",
   "execution_count": null,
   "id": "cf01e961-1e87-4810-9f37-df1d1a93b48c",
   "metadata": {},
   "outputs": [],
   "source": [
    "path_to_pdf = './data/First Cry Image.pdf'\n",
    "# path_to_pdf = './47632gon2822.pdf'"
   ]
  },
  {
   "cell_type": "code",
   "execution_count": null,
   "id": "8b926839-9b07-4059-982c-0c0dbba20f84",
   "metadata": {},
   "outputs": [],
   "source": [
    "print(get_text_from_any_pdf(path_to_pdf))"
   ]
  },
  {
   "cell_type": "markdown",
   "id": "3ea40a4a",
   "metadata": {},
   "source": []
  }
 ],
 "metadata": {
  "kernelspec": {
   "display_name": "Python 3 (ipykernel)",
   "language": "python",
   "name": "python3"
  },
  "language_info": {
   "codemirror_mode": {
    "name": "ipython",
    "version": 3
   },
   "file_extension": ".py",
   "mimetype": "text/x-python",
   "name": "python",
   "nbconvert_exporter": "python",
   "pygments_lexer": "ipython3",
   "version": "3.9.1"
  }
 },
 "nbformat": 4,
 "nbformat_minor": 5
}
