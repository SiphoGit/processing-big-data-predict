{
 "cells": [
  {
   "cell_type": "markdown",
   "metadata": {},
   "source": [
    "# Processing Big Data - Data profiling\n",
    "\n",
    "© Explore Data Science Academy\n",
    "\n",
    "## Honour Code\n",
    "I {SIPHO, SHIMANGE}, confirm - by submitting this document - that the solutions in this notebook are a result of my own work and that I abide by the [EDSA honour code](https://drive.google.com/file/d/1QDCjGZJ8-FmJE3bZdIQNwnJyQKPhHZBn/view?usp=sharing).\n",
    "    Non-compliance with the honour code constitutes a material breach of contract.\n",
    "\n",
    "## Context\n",
    "\n",
    "Having completed the first step - data ingestion, the data now needs to be thoroughly prepared so that it is readable, reliable and robust. As the Data Engineer in the team, this will be your responsibility. The Data Scientists are looking to you to clean this data so that model development and deployment become seamless when the data is used in a production environment. Having completed your Data Engineering course recently, your manager Gnissecorp Atadgid, asks you to create data summaries and perform checks using the six dimensions of data quality.\n",
    "\n",
    "<div align=\"center\" style=\"width: 600px; font-size: 80%; text-align: center; margin: 0 auto\">\n",
    "<img src=\"https://github.com/Explore-AI/Pictures/raw/master/data_engineering/transform/predict/DataQuality.jpg\"\n",
    "     alt=\"Data Quality\"\n",
    "     style=\"float: center; padding-bottom=0.5em\"\n",
    "     width=100%/>\n",
    "     <p><em>Figure 1. Six dimensions of data quality</em></p>\n",
    "</div>"
   ]
  },
  {
   "cell_type": "markdown",
   "metadata": {},
   "source": [
    "## Import libraries\n",
    "Below we import the libraries required to complete this section of the predict."
   ]
  },
  {
   "cell_type": "code",
   "execution_count": 1,
   "metadata": {},
   "outputs": [],
   "source": [
    "import pandas as pd\n",
    "import numpy as np\n",
    "import matplotlib.pyplot as plt\n",
    "\n",
    "from pyspark import SparkContext\n",
    "from pyspark.sql import SparkSession\n",
    "from pyspark.sql import functions as F\n",
    "from pyspark.sql.types import *\n",
    "from datetime import datetime"
   ]
  },
  {
   "cell_type": "markdown",
   "metadata": {},
   "source": [
    "Remember that we need a `SparkContext` and `SparkSession` to interface with Spark.\n",
    "We will mostly be using the `SparkContext` to interact with RDDs \n",
    "and the `SparkSession` to interface with Python objects.\n",
    "\n",
    "> ℹ️ **Instructions** ℹ️\n",
    ">\n",
    ">Initialise a new **Spark Context** and **Session** that you will use to interface with Spark."
   ]
  },
  {
   "cell_type": "code",
   "execution_count": 2,
   "metadata": {},
   "outputs": [
    {
     "name": "stderr",
     "output_type": "stream",
     "text": [
      "Setting default log level to \"WARN\".\n",
      "To adjust logging level use sc.setLogLevel(newLevel). For SparkR, use setLogLevel(newLevel).\n",
      "24/07/21 07:52:26 WARN NativeCodeLoader: Unable to load native-hadoop library for your platform... using builtin-java classes where applicable\n",
      "24/07/21 07:52:27 WARN Utils: Service 'SparkUI' could not bind on port 4040. Attempting port 4041.\n",
      "24/07/21 07:52:27 WARN Utils: Service 'SparkUI' could not bind on port 4041. Attempting port 4042.\n",
      "24/07/21 07:52:27 WARN Utils: Service 'SparkUI' could not bind on port 4042. Attempting port 4043.\n"
     ]
    },
    {
     "data": {
      "text/html": [
       "\n",
       "            <div>\n",
       "                <p><b>SparkSession - in-memory</b></p>\n",
       "                \n",
       "        <div>\n",
       "            <p><b>SparkContext</b></p>\n",
       "\n",
       "            <p><a href=\"http://9472b9fc39e3:4043\">Spark UI</a></p>\n",
       "\n",
       "            <dl>\n",
       "              <dt>Version</dt>\n",
       "                <dd><code>v3.5.1</code></dd>\n",
       "              <dt>Master</dt>\n",
       "                <dd><code>local[*]</code></dd>\n",
       "              <dt>AppName</dt>\n",
       "                <dd><code>Data Profiling</code></dd>\n",
       "            </dl>\n",
       "        </div>\n",
       "        \n",
       "            </div>\n",
       "        "
      ],
      "text/plain": [
       "<pyspark.sql.session.SparkSession at 0x7f74a8fd52e0>"
      ]
     },
     "execution_count": 2,
     "metadata": {},
     "output_type": "execute_result"
    }
   ],
   "source": [
    "spark = SparkSession.builder.appName('Data Profiling').getOrCreate()\n",
    "spark"
   ]
  },
  {
   "cell_type": "code",
   "execution_count": 2,
   "metadata": {},
   "outputs": [
    {
     "name": "stderr",
     "output_type": "stream",
     "text": [
      "Setting default log level to \"WARN\".\n",
      "To adjust logging level use sc.setLogLevel(newLevel). For SparkR, use setLogLevel(newLevel).\n",
      "24/07/20 08:34:36 WARN NativeCodeLoader: Unable to load native-hadoop library for your platform... using builtin-java classes where applicable\n"
     ]
    },
    {
     "data": {
      "text/html": [
       "\n",
       "        <div>\n",
       "            <p><b>SparkContext</b></p>\n",
       "\n",
       "            <p><a href=\"http://9472b9fc39e3:4040\">Spark UI</a></p>\n",
       "\n",
       "            <dl>\n",
       "              <dt>Version</dt>\n",
       "                <dd><code>v3.5.1</code></dd>\n",
       "              <dt>Master</dt>\n",
       "                <dd><code>local[*]</code></dd>\n",
       "              <dt>AppName</dt>\n",
       "                <dd><code>pyspark-shell</code></dd>\n",
       "            </dl>\n",
       "        </div>\n",
       "        "
      ],
      "text/plain": [
       "<SparkContext master=local[*] appName=pyspark-shell>"
      ]
     },
     "execution_count": 2,
     "metadata": {},
     "output_type": "execute_result"
    }
   ],
   "source": [
    "# sc = SparkContext.getOrCreate()\n",
    "# sc"
   ]
  },
  {
   "cell_type": "code",
   "execution_count": 3,
   "metadata": {},
   "outputs": [
    {
     "data": {
      "text/html": [
       "\n",
       "            <div>\n",
       "                <p><b>SparkSession - in-memory</b></p>\n",
       "                \n",
       "        <div>\n",
       "            <p><b>SparkContext</b></p>\n",
       "\n",
       "            <p><a href=\"http://9472b9fc39e3:4040\">Spark UI</a></p>\n",
       "\n",
       "            <dl>\n",
       "              <dt>Version</dt>\n",
       "                <dd><code>v3.5.1</code></dd>\n",
       "              <dt>Master</dt>\n",
       "                <dd><code>local[*]</code></dd>\n",
       "              <dt>AppName</dt>\n",
       "                <dd><code>pyspark-shell</code></dd>\n",
       "            </dl>\n",
       "        </div>\n",
       "        \n",
       "            </div>\n",
       "        "
      ],
      "text/plain": [
       "<pyspark.sql.session.SparkSession at 0x7f87cd9812e0>"
      ]
     },
     "execution_count": 3,
     "metadata": {},
     "output_type": "execute_result"
    }
   ],
   "source": [
    "# spark = SparkSession(sc)\n",
    "# spark"
   ]
  },
  {
   "cell_type": "markdown",
   "metadata": {},
   "source": [
    "## Parquet files\n",
    "In the previous section of the predict, you generated parquet files to your local directory. You will be making use of these files to continue with this section of the predict. Please make sure that your parquet files are specifically for the year **1962**. Any other year used outside of **1962** will produce incorrect answers and have a negative impact on your overall predict mark.\n",
    "\n",
    "> ℹ️ **Instructions** ℹ️\n",
    ">\n",
    "> Read the parquet files stored in your directory for the year **1962** into a Spark DataFrame."
   ]
  },
  {
   "cell_type": "code",
   "execution_count": 3,
   "metadata": {},
   "outputs": [],
   "source": [
    "def read_parquet_file(path):\n",
    "    try:\n",
    "        df = spark.read.parquet(path)\n",
    "        return df\n",
    "    except FileNotFoundError as e:\n",
    "            print(f'Folder not found: Error {e}')"
   ]
  },
  {
   "cell_type": "code",
   "execution_count": 5,
   "metadata": {},
   "outputs": [
    {
     "name": "stderr",
     "output_type": "stream",
     "text": [
      "24/07/21 07:52:59 WARN SparkStringUtils: Truncated the string representation of a plan since it was too large. This behavior can be adjusted by setting 'spark.sql.debug.maxToStringFields'.\n",
      "                                                                                \r"
     ]
    },
    {
     "name": "stdout",
     "output_type": "stream",
     "text": [
      "+-------+------------------+------------------+-------------------+--------------------+--------------------+-----------------+-----+\n",
      "|summary|open              |high              |low                |close               |adj_close           |volume           |stock|\n",
      "+-------+------------------+------------------+-------------------+--------------------+--------------------+-----------------+-----+\n",
      "|count  |5106              |5106              |5064               |5106                |5085                |5085             |5106 |\n",
      "|mean   |1.0904873526012002|16.757624946793637|15.728619917198033 |16.64199179044607   |5.9866425135353065  |540930.2458210423|NULL |\n",
      "|stddev |2.36445352530491  |53.91407348193546 |51.32292289814399  |53.54677139900802   |24.64637054715319   |864596.2440525505|NULL |\n",
      "|min    |0.0               |0.0               |0.05237788334488869|0.053624976426362984|4.038145391405124E-7|0                |AA   |\n",
      "|max    |20.0              |287.5             |282.5              |285.0               |127.45935821533205  |19545600         |XOM  |\n",
      "+-------+------------------+------------------+-------------------+--------------------+--------------------+-----------------+-----+\n",
      "\n"
     ]
    }
   ],
   "source": [
    "year = 1962\n",
    "path = f'../output/{year}'\n",
    "df_parquet = read_parquet_file(path)\n",
    "df_parquet.describe().show(truncate=False)"
   ]
  },
  {
   "cell_type": "code",
   "execution_count": 6,
   "metadata": {},
   "outputs": [
    {
     "name": "stdout",
     "output_type": "stream",
     "text": [
      "root\n",
      " |-- date: date (nullable = true)\n",
      " |-- open: double (nullable = true)\n",
      " |-- high: double (nullable = true)\n",
      " |-- low: double (nullable = true)\n",
      " |-- close: double (nullable = true)\n",
      " |-- adj_close: double (nullable = true)\n",
      " |-- volume: integer (nullable = true)\n",
      " |-- stock: string (nullable = true)\n",
      "\n"
     ]
    }
   ],
   "source": [
    "df_parquet.printSchema()"
   ]
  },
  {
   "cell_type": "markdown",
   "metadata": {},
   "source": [
    "## Metadata \n",
    "\n",
    "Metadata is data containing additional information about the data itself. In the cloud storage, there is a metadata file called [`symbols_valid_meta.csv`](https://processing-big-data-predict-stocks-data.s3.eu-west-1.amazonaws.com/symbols_valid_meta.csv) that is collocated with the stock market data. You will need to download this to use when performing your data quality checks.\n",
    "\n",
    "> ℹ️ **Instructions** ℹ️\n",
    ">\n",
    "> Download the metadata from the S3 bucket and read it into a Spark DataFrame."
   ]
  },
  {
   "cell_type": "code",
   "execution_count": 7,
   "metadata": {},
   "outputs": [],
   "source": [
    "def read_metadata(path):\n",
    "    try:\n",
    "        df = spark.read.csv(path, header=True)\n",
    "        return df\n",
    "    except FileNotFoundError as e:\n",
    "            print(f'Folder not found: Error {e}')\n"
   ]
  },
  {
   "cell_type": "code",
   "execution_count": 8,
   "metadata": {},
   "outputs": [
    {
     "name": "stdout",
     "output_type": "stream",
     "text": [
      "+-------------+------+--------------------+----------------+---------------+---+--------------+----------+----------------+----------+-------------+----------+\n",
      "|Nasdaq Traded|Symbol|       Security Name|Listing Exchange|Market Category|ETF|Round Lot Size|Test Issue|Financial Status|CQS Symbol|NASDAQ Symbol|NextShares|\n",
      "+-------------+------+--------------------+----------------+---------------+---+--------------+----------+----------------+----------+-------------+----------+\n",
      "|            Y|     A|Agilent Technolog...|               N|               |  N|         100.0|         N|            NULL|         A|            A|         N|\n",
      "|            Y|    AA|Alcoa Corporation...|               N|               |  N|         100.0|         N|            NULL|        AA|           AA|         N|\n",
      "|            Y|  AAAU|Perth Mint Physic...|               P|               |  Y|         100.0|         N|            NULL|      AAAU|         AAAU|         N|\n",
      "|            Y|  AACG|ATA Creativity Gl...|               Q|              G|  N|         100.0|         N|               N|      NULL|         AACG|         N|\n",
      "|            Y|  AADR|AdvisorShares Dor...|               P|               |  Y|         100.0|         N|            NULL|      AADR|         AADR|         N|\n",
      "|            Y|   AAL|American Airlines...|               Q|              Q|  N|         100.0|         N|               N|      NULL|          AAL|         N|\n",
      "|            Y|  AAMC|Altisource Asset ...|               A|               |  N|         100.0|         N|            NULL|      AAMC|         AAMC|         N|\n",
      "|            Y|  AAME|Atlantic American...|               Q|              G|  N|         100.0|         N|               N|      NULL|         AAME|         N|\n",
      "|            Y|   AAN|Aaron's, Inc. Com...|               N|               |  N|         100.0|         N|            NULL|       AAN|          AAN|         N|\n",
      "|            Y|  AAOI|Applied Optoelect...|               Q|              G|  N|         100.0|         N|               N|      NULL|         AAOI|         N|\n",
      "+-------------+------+--------------------+----------------+---------------+---+--------------+----------+----------------+----------+-------------+----------+\n",
      "only showing top 10 rows\n",
      "\n"
     ]
    }
   ],
   "source": [
    "metadata_path = '../symbols_valid_meta.csv'\n",
    "metadata_df = read_metadata(metadata_path)\n",
    "metadata_df.show(10)"
   ]
  },
  {
   "cell_type": "markdown",
   "metadata": {},
   "source": [
    "## Data Accuracy\n",
    "Data accuracy is the degree to which data correctly describes a \"real world\" object or event.\n",
    "\n",
    "It is important to do checks to determine the basic integrity of the dataset; do the values fall within expected ranges?\n",
    "\n",
    "Most of the possible errors relating to data accuracy can occur at collection time. In our case, it is not possible to test the collection time accuracy, so we have to infer from ranges and summary statistics. Here you need to look closely at each field to see if its values make sense, with no strange surprises.\n",
    "\n",
    "In assessing accuracy, it is important to look into precision as well. Do you need seven decimals, or will one or two suffice?\n",
    "\n",
    "- **Measured by**: The degree to which the data mirrors the characteristics of the real-world object or objects it represents;\n",
    "- **Units**: The percentage of data entries that pass the data accuracy rules;\n",
    "- **Related to**: Validity, Uniqueness, Consistency."
   ]
  },
  {
   "cell_type": "markdown",
   "metadata": {},
   "source": [
    "> ℹ️ **Instructions** ℹ️\n",
    ">\n",
    "> Generate summary statistics to explore your data. Make sure you understand the ranges, means, extremums, and deviations found in the data set."
   ]
  },
  {
   "cell_type": "code",
   "execution_count": 9,
   "metadata": {},
   "outputs": [
    {
     "name": "stdout",
     "output_type": "stream",
     "text": [
      "+-------+------------------+------------------+-------------------+--------------------+--------------------+-----------------+-----+\n",
      "|summary|              open|              high|                low|               close|           adj_close|           volume|stock|\n",
      "+-------+------------------+------------------+-------------------+--------------------+--------------------+-----------------+-----+\n",
      "|  count|              5106|              5106|               5064|                5106|                5085|             5085| 5106|\n",
      "|   mean|1.0904873526012002|16.757624946793637| 15.728619917198033|   16.64199179044607|  5.9866425135353065|540930.2458210423| NULL|\n",
      "| stddev|  2.36445352530491| 53.91407348193546|  51.32292289814399|   53.54677139900802|   24.64637054715319|864596.2440525505| NULL|\n",
      "|    min|               0.0|               0.0|0.05237788334488869|0.053624976426362984|4.038145391405124E-7|                0|   AA|\n",
      "|    max|              20.0|             287.5|              282.5|               285.0|  127.45935821533205|         19545600|  XOM|\n",
      "+-------+------------------+------------------+-------------------+--------------------+--------------------+-----------------+-----+\n",
      "\n"
     ]
    }
   ],
   "source": [
    "df_parquet.describe().show()"
   ]
  },
  {
   "cell_type": "markdown",
   "metadata": {},
   "source": [
    "> ℹ️ **Instructions** ℹ️\n",
    ">\n",
    "> Generate histograms for the six numerical attributes found in the data to understand the distribution of values.\n",
    ">\n",
    ">*You may use as many coding cells as necessary.*"
   ]
  },
  {
   "cell_type": "code",
   "execution_count": 10,
   "metadata": {},
   "outputs": [],
   "source": [
    "def generate_multi_hist(df, columns):\n",
    "    for column in columns:\n",
    "        plt.figure(figsize=(8, 6))\n",
    "        plt.hist(df[column], bins=30, edgecolor='black', alpha=0.7)\n",
    "        plt.title(f'{column.capitalize()} histogram')\n",
    "        plt.xlabel(column)\n",
    "        plt.ylabel('Frequency')\n",
    "        plt.grid(True)\n",
    "        plt.show()"
   ]
  },
  {
   "cell_type": "code",
   "execution_count": 11,
   "metadata": {
    "scrolled": true
   },
   "outputs": [
    {
     "data": {
      "image/png": "[encoded data removed]",
      "text/plain": [
       "<Figure size 800x600 with 1 Axes>"
      ]
     },
     "metadata": {},
     "output_type": "display_data"
    },
    {
     "data": {
      "image/png": "[encoded data removed]",
      "text/plain": [
       "<Figure size 800x600 with 1 Axes>"
      ]
     },
     "metadata": {},
     "output_type": "display_data"
    },
    {
     "data": {
      "image/png": "[encoded data removed]",
      "text/plain": [
       "<Figure size 800x600 with 1 Axes>"
      ]
     },
     "metadata": {},
     "output_type": "display_data"
    },
    {
     "data": {
      "image/png": "[encoded data removed]",
      "text/plain": [
       "<Figure size 800x600 with 1 Axes>"
      ]
     },
     "metadata": {},
     "output_type": "display_data"
    },
    {
     "data": {
      "image/png": "[encoded data removed]",
      "text/plain": [
       "<Figure size 800x600 with 1 Axes>"
      ]
     },
     "metadata": {},
     "output_type": "display_data"
    },
    {
     "data": {
      "image/png": "[encoded data removed]",
      "text/plain": [
       "<Figure size 800x600 with 1 Axes>"
      ]
     },
     "metadata": {},
     "output_type": "display_data"
    }
   ],
   "source": [
    "df_parquet_num = ['open', 'high', 'low', 'close', 'adj_close', 'volume']\n",
    "pandas_df = df_parquet.select(df_parquet_num).toPandas()   \n",
    "\n",
    "generate_multi_hist(pandas_df, df_parquet_num)"
   ]
  },
  {
   "cell_type": "markdown",
   "metadata": {},
   "source": [
    "> ℹ️ **Instructions** ℹ️\n",
    ">\n",
    "> Investigate the **open** column to identify stocks that have open values greater than 2, and note any anomalies that you find in the data.\n",
    ">\n",
    ">*You may use as many coding cells as necessary.*"
   ]
  },
  {
   "cell_type": "code",
   "execution_count": 12,
   "metadata": {},
   "outputs": [],
   "source": [
    "df_filtered = df_parquet.filter(df_parquet['open'] > 2)"
   ]
  },
  {
   "cell_type": "code",
   "execution_count": 13,
   "metadata": {
    "scrolled": true
   },
   "outputs": [
    {
     "name": "stderr",
     "output_type": "stream",
     "text": [
      "[Stage 10:>                                                         (0 + 2) / 2]\r"
     ]
    },
    {
     "name": "stdout",
     "output_type": "stream",
     "text": [
      "+-------+------------------+------------------+------------------+------------------+------------------+------------------+-----+\n",
      "|summary|              open|              high|               low|             close|         adj_close|            volume|stock|\n",
      "+-------+------------------+------------------+------------------+------------------+------------------+------------------+-----+\n",
      "|  count|               779|               779|               779|               779|               779|               779|  779|\n",
      "|   mean| 6.074912513174662| 5.573487404834322|  5.46130268258522| 5.509041005747921|1.0024100287849698| 532115.2759948652| NULL|\n",
      "| stddev|2.5409119039926433|1.0699638669305778|1.0707436884634807|1.0681113823626924|0.4432436231509917|1001982.5426980964| NULL|\n",
      "|    min| 4.079999923706056|       1.072265625|       1.060546875|       1.060546875|0.0101668993011116|              8600|   AA|\n",
      "|    max|              20.0|7.7133331298828125|  7.62666654586792| 7.693333148956299|1.5993919372558594|           6915400|   PG|\n",
      "+-------+------------------+------------------+------------------+------------------+------------------+------------------+-----+\n",
      "\n"
     ]
    },
    {
     "name": "stderr",
     "output_type": "stream",
     "text": [
      "                                                                                \r"
     ]
    }
   ],
   "source": [
    "df_filtered.describe().show()"
   ]
  },
  {
   "cell_type": "code",
   "execution_count": 14,
   "metadata": {},
   "outputs": [
    {
     "data": {
      "text/plain": [
       "[5.106821537017822,\n",
       " 5.505060195922852,\n",
       " 6.05556583404541,\n",
       " 7.0999999046325675,\n",
       " 7.366666793823242,\n",
       " 20.0]"
      ]
     },
     "execution_count": 14,
     "metadata": {},
     "output_type": "execute_result"
    }
   ],
   "source": [
    "# Get the 90th, 95th, and 98th percentiles of datasets of the 'open' column\n",
    "percentile = df_filtered.approxQuantile('open', [0.25, 0.5, 0.75, 0.9, 0.95, .98], 0.01)\n",
    "percentile"
   ]
  },
  {
   "cell_type": "code",
   "execution_count": 15,
   "metadata": {},
   "outputs": [
    {
     "data": {
      "text/plain": [
       "20.0"
      ]
     },
     "execution_count": 15,
     "metadata": {},
     "output_type": "execute_result"
    }
   ],
   "source": [
    "# 98th percentile\n",
    "p98 = percentile[-1]\n",
    "p98"
   ]
  },
  {
   "cell_type": "code",
   "execution_count": 16,
   "metadata": {},
   "outputs": [],
   "source": [
    "def generate_hist(df, title):\n",
    "    plt.figure(figsize=(10, 6))\n",
    "    plt.hist(df['open'].dropna(), bins=30, edgecolor='black', alpha=0.7)\n",
    "    plt.title(title)\n",
    "    plt.xlabel('Open Value')\n",
    "    plt.ylabel('Frequency')\n",
    "    plt.grid(True)\n",
    "    plt.show()"
   ]
  },
  {
   "cell_type": "code",
   "execution_count": 17,
   "metadata": {},
   "outputs": [
    {
     "data": {
      "image/png": "[encoded data removed]",
      "text/plain": [
       "<Figure size 1000x600 with 1 Axes>"
      ]
     },
     "metadata": {},
     "output_type": "display_data"
    }
   ],
   "source": [
    "pdf_filtered = df_filtered.toPandas()\n",
    "title = 'Distribution of Open Values Greater Than 2'\n",
    "generate_hist(pdf_filtered, title)"
   ]
  },
  {
   "attachments": {},
   "cell_type": "markdown",
   "metadata": {},
   "source": [
    " ## 📔️**Notes** 📔️\n",
    "\n",
    " *Use this cell to note down any potential findings.*\n",
    "\n",
    " 1. Most of the data is evenly distributed between 4 and 8.\n",
    " 2. Only 2% of the stocks open at $20\n",
    " \n",
    "\n",
    "> ℹ️ **Instructions** ℹ️\n",
    ">\n",
    "> Investigate **high**, **low**, **close**, and **adj_close** to determine if any stocks may be deviating from the normal ranges of the data set. Note down the stock(s) that you come across.\n",
    ">\n",
    ">*You may use as many coding cells as necessary.*"
   ]
  },
  {
   "cell_type": "code",
   "execution_count": 18,
   "metadata": {
    "scrolled": true
   },
   "outputs": [
    {
     "name": "stdout",
     "output_type": "stream",
     "text": [
      "+-------+------------------+-------------------+--------------------+--------------------+\n",
      "|summary|              high|                low|               close|           adj_close|\n",
      "+-------+------------------+-------------------+--------------------+--------------------+\n",
      "|  count|              5106|               5064|                5106|                5085|\n",
      "|   mean|16.757624946793637| 15.728619917198033|   16.64199179044607|  5.9866425135353065|\n",
      "| stddev| 53.91407348193546|  51.32292289814399|   53.54677139900802|   24.64637054715319|\n",
      "|    min|               0.0|0.05237788334488869|0.053624976426362984|4.038145391405124E-7|\n",
      "|    max|             287.5|              282.5|               285.0|  127.45935821533205|\n",
      "+-------+------------------+-------------------+--------------------+--------------------+\n",
      "\n"
     ]
    }
   ],
   "source": [
    "df_parquet_sub_columns = ['high', 'low', 'close', 'adj_close']\n",
    "pandas_df_sub = df_parquet.select(df_parquet_sub_columns)\n",
    "# pandas_df = df_parquet.select(df_parquet_sub).toPandas()\n",
    "pandas_df_sub.describe().show()"
   ]
  },
  {
   "cell_type": "code",
   "execution_count": 19,
   "metadata": {
    "scrolled": true
   },
   "outputs": [
    {
     "data": {
      "image/png": "[encoded data removed]",
      "text/plain": [
       "<Figure size 800x600 with 1 Axes>"
      ]
     },
     "metadata": {},
     "output_type": "display_data"
    },
    {
     "data": {
      "image/png": "[encoded data removed]",
      "text/plain": [
       "<Figure size 800x600 with 1 Axes>"
      ]
     },
     "metadata": {},
     "output_type": "display_data"
    },
    {
     "data": {
      "image/png": "[encoded data removed]",
      "text/plain": [
       "<Figure size 800x600 with 1 Axes>"
      ]
     },
     "metadata": {},
     "output_type": "display_data"
    },
    {
     "data": {
      "image/png": "[encoded data removed]",
      "text/plain": [
       "<Figure size 800x600 with 1 Axes>"
      ]
     },
     "metadata": {},
     "output_type": "display_data"
    }
   ],
   "source": [
    "# Histograms\n",
    "df_sub_plot = df_parquet.select(df_parquet_sub_columns).toPandas()\n",
    "generate_multi_hist(df_sub_plot, df_parquet_sub_columns)"
   ]
  },
  {
   "cell_type": "code",
   "execution_count": 21,
   "metadata": {},
   "outputs": [
    {
     "name": "stdout",
     "output_type": "stream",
     "text": [
      "Only 3% of the \"high\" column dataset is above 231.875\n",
      "Only 3% of the \"low\" column dataset is above 227.5\n",
      "Only 3% of the \"close\" column dataset is above 231.25\n",
      "Only 3% of the \"adj_close\" column dataset is above 106.59024810791016\n"
     ]
    }
   ],
   "source": [
    "# Get the 90th, 95th, and 97th percentiles of datasets of the 'open' column\n",
    "for column in pandas_df_sub.columns: \n",
    "    percentile = pandas_df_sub.approxQuantile(column, [0.9, 0.95, .97], 0.01)\n",
    "    print(f'Only 3% of the \"{column}\" column dataset is above {percentile[-1]}')"
   ]
  },
  {
   "cell_type": "markdown",
   "metadata": {},
   "source": [
    " ## 📔️**Notes** 📔️\n",
    "\n",
    " *Use this cell to note down any potential findings.*\n",
    "\n",
    " 1. 75% of the stocks trade below $7.\n",
    " 2. Only 3% of the stocks trade above 200"
   ]
  },
  {
   "cell_type": "markdown",
   "metadata": {},
   "source": [
    "\n",
    "\n",
    "## Completeness\n",
    "\n",
    "Completeness is the proportion of stored data against the potential of “100% complete\". This is the degree to which the required data is in the dataset. \n",
    "\n",
    "Does the dataset have missing values, or if it is time-series data, does it have time period gaps? Has a bias been introduced that may change your assumptions or affect your results?\n",
    "\n",
    "Completeness issues can occur at the row level (gaps within the dataset) or the field level (one entry missing). At the field level, entire fields can being empty, or >80% of a field's data missing. \n",
    "\n",
    "Another issue that may occur is default values. A typical example of this is where a logger sends back a 0 instead of a null value, which can greatly skew any attempts at modelling. This is where it is instrumental to employ domain knowledge when assessing a dataset. \n",
    "\n",
    "- **Measured by**: A measure of the absence of blank (null) values or the presence of non-blank values;\n",
    "- **Units**: Percentage;\n",
    "- **Related to**: Validity and Accuracy."
   ]
  },
  {
   "cell_type": "markdown",
   "metadata": {},
   "source": [
    "### Missing values\n",
    "\n",
    "> ℹ️ **Instructions** ℹ️\n",
    ">\n",
    "> Write code to identify and count the number of missing values (nulls) in the dataset. Include a percentage to describe the proportion of missing values per column. Output the results in the following manner:\n",
    ">\n",
    "> `There are <number_of_missing_values> (<percentage>) null values in <column_name> column`\n",
    ">\n",
    ">*You may use as many coding cells as necessary.*"
   ]
  },
  {
   "cell_type": "code",
   "execution_count": 22,
   "metadata": {
    "scrolled": true
   },
   "outputs": [
    {
     "name": "stdout",
     "output_type": "stream",
     "text": [
      "+----+----+----+---+-----+---------+------+-----+\n",
      "|date|open|high|low|close|adj_close|volume|stock|\n",
      "+----+----+----+---+-----+---------+------+-----+\n",
      "|   0|   0|   0| 42|    0|       21|    21|    0|\n",
      "+----+----+----+---+-----+---------+------+-----+\n",
      "\n"
     ]
    }
   ],
   "source": [
    "# Get the number of missing values in each column\n",
    "null_counts = df_parquet.select([F.sum(F.col(column).isNull().cast('int')).alias(column) for column in df_parquet.columns])\n",
    "null_counts.show()"
   ]
  },
  {
   "cell_type": "code",
   "execution_count": 23,
   "metadata": {},
   "outputs": [
    {
     "name": "stdout",
     "output_type": "stream",
     "text": [
      "+----+----+----+----+-----+---------+------+-----+\n",
      "|date|open|high| low|close|adj_close|volume|stock|\n",
      "+----+----+----+----+-----+---------+------+-----+\n",
      "| 0.0| 0.0| 0.0|0.82|  0.0|     0.41|  0.41|  0.0|\n",
      "+----+----+----+----+-----+---------+------+-----+\n",
      "\n"
     ]
    }
   ],
   "source": [
    "# Calculate the percentage of the missing entries\n",
    "num_of_rows = df_parquet.count()\n",
    "\n",
    "null_percentage = null_counts.select(\n",
    "    [F.round((F.col(column) / num_of_rows * 100),2).alias(column) for column in null_counts.columns]\n",
    ")\n",
    "\n",
    "null_percentage.show()"
   ]
  },
  {
   "cell_type": "code",
   "execution_count": 24,
   "metadata": {},
   "outputs": [
    {
     "name": "stdout",
     "output_type": "stream",
     "text": [
      "There are 0 (0.00%) null values in date column\n",
      "There are 0 (0.00%) null values in open column\n",
      "There are 0 (0.00%) null values in high column\n",
      "There are 42 (0.82%) null values in low column\n",
      "There are 0 (0.00%) null values in close column\n",
      "There are 21 (0.41%) null values in adj_close column\n",
      "There are 21 (0.41%) null values in volume column\n",
      "There are 0 (0.00%) null values in stock column\n"
     ]
    }
   ],
   "source": [
    "# Collect the null counts and percentages as dictionaries\n",
    "null_counts_dict = null_counts.collect()[0].asDict()\n",
    "null_percentage_dict = null_percentage.collect()[0].asDict()\n",
    "\n",
    "for column in df_parquet.columns:\n",
    "    count = null_counts_dict[column]\n",
    "    percentage = null_percentage_dict[column]\n",
    "    print(f\"There are {count} ({percentage:.2f}%) null values in {column} column\")"
   ]
  },
  {
   "cell_type": "markdown",
   "metadata": {},
   "source": [
    "### Columns with missing values"
   ]
  },
  {
   "cell_type": "markdown",
   "metadata": {},
   "source": [
    "\n",
    "> ℹ️ **Instructions** ℹ️\n",
    ">\n",
    "> From the above result, probe the columns that are affected by the missing data to find out which stocks were affected.\n",
    ">\n",
    ">*You may use as many coding cells as necessary.*"
   ]
  },
  {
   "cell_type": "code",
   "execution_count": 25,
   "metadata": {},
   "outputs": [
    {
     "data": {
      "text/plain": [
       "['low', 'adj_close', 'volume']"
      ]
     },
     "execution_count": 25,
     "metadata": {},
     "output_type": "execute_result"
    }
   ],
   "source": [
    "columns_with_missing_data = [column for column, count in null_counts_dict.items() if count > 0]\n",
    "columns_with_missing_data"
   ]
  },
  {
   "cell_type": "code",
   "execution_count": 26,
   "metadata": {},
   "outputs": [
    {
     "name": "stderr",
     "output_type": "stream",
     "text": [
      "                                                                                \r"
     ]
    },
    {
     "name": "stdout",
     "output_type": "stream",
     "text": [
      "Stocks affected by missing values in low column: ['CAT', 'NAV']\n",
      "Stocks affected by missing values in adj_close column: ['FL']\n",
      "Stocks affected by missing values in volume column: ['JNJ']\n"
     ]
    }
   ],
   "source": [
    "# Function to find affected stocks for a given column\n",
    "def find_affected_stocks(df, column):\n",
    "    affected_stocks = df.filter(F.col(column).isNull()).select('stock').distinct()\n",
    "    return [row.stock for row in affected_stocks.collect()]\n",
    "\n",
    "# Dictionary to store affected stocks for each column with missing data\n",
    "affected_stocks_dict = {column: find_affected_stocks(df_parquet, column) for column in columns_with_missing_data}\n",
    "\n",
    "# Output the affected stocks\n",
    "for column, stocks in affected_stocks_dict.items():\n",
    "    print(f\"Stocks affected by missing values in {column} column: {stocks}\")"
   ]
  },
  {
   "cell_type": "markdown",
   "metadata": {},
   "source": [
    "#### Fix Completeness\n",
    "\n",
    "How do we deal with incomplete data?\n",
    "- Dropping missing values\n",
    "- Discard the incomplete column\n",
    "- Discard the rows containing missing data\n",
    "- Case deletion\n",
    "\n",
    "> ℹ️ **Instructions** ℹ️\n",
    ">\n",
    "> Use the appropriate strategy to remedy the missing data. \n",
    ">\n",
    ">*You may use as many coding cells as necessary.*"
   ]
  },
  {
   "cell_type": "code",
   "execution_count": 27,
   "metadata": {},
   "outputs": [],
   "source": [
    "# The missing values are < 1% of the data in each column therefore the rows with missing data will be droped \n",
    "df_parquet_copy = df_parquet\n",
    "df_dropna = df_parquet_copy.na.drop()"
   ]
  },
  {
   "cell_type": "code",
   "execution_count": 28,
   "metadata": {},
   "outputs": [
    {
     "name": "stdout",
     "output_type": "stream",
     "text": [
      "+----+----+----+---+-----+---------+------+-----+\n",
      "|date|open|high|low|close|adj_close|volume|stock|\n",
      "+----+----+----+---+-----+---------+------+-----+\n",
      "|   0|   0|   0|  0|    0|        0|     0|    0|\n",
      "+----+----+----+---+-----+---------+------+-----+\n",
      "\n"
     ]
    }
   ],
   "source": [
    "# # Show the resulting DataFrame\n",
    "null_counts = df_dropna.select([F.sum(F.col(column).isNull().cast('int')).alias(column) for column in df_dropna.columns])\n",
    "null_counts.show()"
   ]
  },
  {
   "cell_type": "markdown",
   "metadata": {},
   "source": [
    "### Zero Values\n",
    "\n",
    "Take a deeper look into the entries with many zero values."
   ]
  },
  {
   "cell_type": "markdown",
   "metadata": {},
   "source": [
    "#### Fix Completeness\n",
    "\n",
    "Completeness issues can be fixed through imputation of the missing data through:\n",
    "- imputation by mean/mode/median;\n",
    "- regression; or\n",
    "- KNN.\n",
    " \n",
    "> ℹ️ **Instructions** ℹ️\n",
    ">\n",
    "> Write code to identify and count the number of zeros (0) in the dataset. Include a percentage to describe the proportion of missing values per column. Output the results in the following manner:\n",
    ">\n",
    "> `There are <number_of_zeros> (<percentage>) zero values in <column_name> column`\n",
    ">\n",
    ">*You may use as many coding cells as necessary.*"
   ]
  },
  {
   "cell_type": "code",
   "execution_count": 29,
   "metadata": {},
   "outputs": [],
   "source": [
    "# Define a list of columns to check for zeros\n",
    "columns_to_check = [column for column in df_dropna.columns if column not in ['date', 'stock']]\n",
    "\n",
    "# Count the number of zero values in each column\n",
    "zero_counts = df_dropna.select([F.sum(F.when(F.col(column) == 0, 1).otherwise(0)).alias(column) for column in columns_to_check])"
   ]
  },
  {
   "cell_type": "code",
   "execution_count": 30,
   "metadata": {},
   "outputs": [
    {
     "data": {
      "text/plain": [
       "{'open': 2706, 'high': 20, 'low': 0, 'close': 0, 'adj_close': 0, 'volume': 27}"
      ]
     },
     "execution_count": 30,
     "metadata": {},
     "output_type": "execute_result"
    }
   ],
   "source": [
    "# Collect the zero counts as a dictionary\n",
    "zero_counts_dict = zero_counts.collect()[0].asDict()\n",
    "zero_counts_dict"
   ]
  },
  {
   "cell_type": "code",
   "execution_count": 31,
   "metadata": {},
   "outputs": [],
   "source": [
    "# Calculate the percentage of zero values per column\n",
    "total_rows = df_dropna.count()\n",
    "zero_percentage_dict = {column: (count / total_rows) * 100 for column, count in zero_counts_dict.items()}"
   ]
  },
  {
   "cell_type": "code",
   "execution_count": 32,
   "metadata": {},
   "outputs": [
    {
     "name": "stdout",
     "output_type": "stream",
     "text": [
      "There are 2706 (53.88%) zero values in open column\n",
      "There are 20 (0.40%) zero values in high column\n",
      "There are 0 (0.00%) zero values in low column\n",
      "There are 0 (0.00%) zero values in close column\n",
      "There are 0 (0.00%) zero values in adj_close column\n",
      "There are 27 (0.54%) zero values in volume column\n"
     ]
    }
   ],
   "source": [
    "# Output the results\n",
    "for column, count in zero_counts_dict.items():\n",
    "    percentage = zero_percentage_dict[column]\n",
    "    print(f'There are {count} ({percentage:.2f}%) zero values in {column} column')"
   ]
  },
  {
   "cell_type": "markdown",
   "metadata": {},
   "source": [
    "From the above section, you find that there are a few columns that contain zero values. However, some of these are true zeros and are explainable. Your task is to distinguish which column should undergo data imputation.\n",
    "\n",
    "> ℹ️ **Instructions** ℹ️\n",
    ">\n",
    "> Investigate the columns with zero values and determine which one should undergo data imputation. Take note of the stock and month on which zero values occurred.\n",
    ">\n",
    ">*You may use as many coding cells as necessary.*"
   ]
  },
  {
   "cell_type": "code",
   "execution_count": 33,
   "metadata": {
    "scrolled": true
   },
   "outputs": [
    {
     "name": "stdout",
     "output_type": "stream",
     "text": [
      "\n",
      "Examining zero values in open column:\n",
      "+----------+-----+-----+\n",
      "|      date|stock|month|\n",
      "+----------+-----+-----+\n",
      "|1962-02-19|  CVX|    2|\n",
      "|1962-02-19|  DTE|    2|\n",
      "|1962-02-19|   ED|    2|\n",
      "|1962-02-19|   FL|    2|\n",
      "|1962-02-19|   GT|    2|\n",
      "|1962-02-19|   IP|    2|\n",
      "|1962-02-19|  JNJ|    2|\n",
      "|1962-02-19|   MO|    2|\n",
      "|1962-02-19|  NAV|    2|\n",
      "|1962-02-19|   PG|    2|\n",
      "|1962-02-19|  XOM|    2|\n",
      "|1962-02-14|  CVX|    2|\n",
      "|1962-02-14|  DTE|    2|\n",
      "|1962-02-14|   ED|    2|\n",
      "|1962-02-14|   FL|    2|\n",
      "|1962-02-14|   GT|    2|\n",
      "|1962-02-14|   IP|    2|\n",
      "|1962-02-14|  JNJ|    2|\n",
      "|1962-02-14|   MO|    2|\n",
      "|1962-02-14|  NAV|    2|\n",
      "+----------+-----+-----+\n",
      "only showing top 20 rows\n",
      "\n",
      "\n",
      "Examining zero values in high column:\n",
      "+----------+-----+-----+\n",
      "|      date|stock|month|\n",
      "+----------+-----+-----+\n",
      "|1962-11-05|  CAT|   11|\n",
      "|1962-11-12|  CAT|   11|\n",
      "|1962-11-08|  CAT|   11|\n",
      "|1962-11-01|  CAT|   11|\n",
      "|1962-11-29|  CAT|   11|\n",
      "|1962-11-28|  CAT|   11|\n",
      "|1962-11-30|  CAT|   11|\n",
      "|1962-11-26|  CAT|   11|\n",
      "|1962-11-02|  CAT|   11|\n",
      "|1962-11-21|  CAT|   11|\n",
      "|1962-11-15|  CAT|   11|\n",
      "|1962-11-16|  CAT|   11|\n",
      "|1962-11-20|  CAT|   11|\n",
      "|1962-11-09|  CAT|   11|\n",
      "|1962-11-19|  CAT|   11|\n",
      "|1962-11-23|  CAT|   11|\n",
      "|1962-11-27|  CAT|   11|\n",
      "|1962-11-14|  CAT|   11|\n",
      "|1962-11-13|  CAT|   11|\n",
      "|1962-11-07|  CAT|   11|\n",
      "+----------+-----+-----+\n",
      "\n",
      "\n",
      "Examining zero values in volume column:\n",
      "+----------+-----+-----+\n",
      "|      date|stock|month|\n",
      "+----------+-----+-----+\n",
      "|1962-05-18|  XOM|    5|\n",
      "|1962-05-24|  XOM|    5|\n",
      "|1962-09-28|  JNJ|    9|\n",
      "|1962-05-08|  XOM|    5|\n",
      "|1962-01-02|  JNJ|    1|\n",
      "|1962-05-14|  XOM|    5|\n",
      "|1962-05-28|  XOM|    5|\n",
      "|1962-05-25|  XOM|    5|\n",
      "|1962-05-29|  XOM|    5|\n",
      "|1962-05-02|  XOM|    5|\n",
      "|1962-05-31|  XOM|    5|\n",
      "|1962-05-16|  XOM|    5|\n",
      "|1962-05-07|  XOM|    5|\n",
      "|1962-05-10|  XOM|    5|\n",
      "|1962-05-15|  XOM|    5|\n",
      "|1962-05-01|  XOM|    5|\n",
      "|1962-05-11|  XOM|    5|\n",
      "|1962-05-17|  XOM|    5|\n",
      "|1962-05-21|  XOM|    5|\n",
      "|1962-05-23|  XOM|    5|\n",
      "+----------+-----+-----+\n",
      "only showing top 20 rows\n",
      "\n"
     ]
    }
   ],
   "source": [
    "for column in columns_to_check:\n",
    "    if zero_counts_dict[column] > 0:\n",
    "        print(f\"\\nExamining zero values in {column} column:\")\n",
    "        zero_rows = df_dropna.filter(F.col(column) == 0).select('date', 'stock').withColumn('month', F.month('date'))\n",
    "        zero_rows.show()"
   ]
  },
  {
   "cell_type": "code",
   "execution_count": 34,
   "metadata": {},
   "outputs": [
    {
     "name": "stdout",
     "output_type": "stream",
     "text": [
      "+-------+------------------+\n",
      "|summary|              high|\n",
      "+-------+------------------+\n",
      "|  count|               230|\n",
      "|   mean|1.3670855973077858|\n",
      "| stddev|0.4444197973698395|\n",
      "|    min|               0.0|\n",
      "|    max|1.7708333730697632|\n",
      "+-------+------------------+\n",
      "\n"
     ]
    }
   ],
   "source": [
    "# Filter the DataFrame for CAT stock\n",
    "df_cat = df_dropna.filter(F.col('stock') == 'CAT')\n",
    "\n",
    "# Get the summary statistics for the high column\n",
    "summary_stats_cat_high = df_cat.describe('high')\n",
    "\n",
    "# Show the summary statistics\n",
    "summary_stats_cat_high.show()\n"
   ]
  },
  {
   "cell_type": "code",
   "execution_count": 35,
   "metadata": {},
   "outputs": [
    {
     "name": "stderr",
     "output_type": "stream",
     "text": [
      "                                                                                \r"
     ]
    },
    {
     "data": {
      "image/png": "[encoded data removed]",
      "text/plain": [
       "<Figure size 1000x600 with 1 Axes>"
      ]
     },
     "metadata": {},
     "output_type": "display_data"
    }
   ],
   "source": [
    "# Filter the DataFrame for CAT stock and collect the high column data\n",
    "cat_high_data = df_cat.select('high').rdd.flatMap(lambda x: x).collect()\n",
    "\n",
    "# Plot the histogram\n",
    "plt.figure(figsize=(10, 6))\n",
    "plt.hist(cat_high_data, bins=30, edgecolor='black', alpha=0.7)\n",
    "plt.title('Histogram of High Prices for CAT Stock, With False Zeros')\n",
    "plt.xlabel('High Prices')\n",
    "plt.ylabel('Frequency')\n",
    "plt.grid(True)\n",
    "plt.show()"
   ]
  },
  {
   "cell_type": "markdown",
   "metadata": {
    "jp-MarkdownHeadingCollapsed": true
   },
   "source": [
    "**The CAT stock requires data imputation in the high column of November 1962.**\n",
    ">\n",
    "> In November, zeros appear only in the \"high (maximum price during the day)\" column.\n",
    ">\n",
    "> This suggests that on those particular days, the low price was higher than the high price, which is illogical.\n",
    ">\n",
    "> The histogram also shows values ranging between 1.25 and 1.75. Additionally, the 20 false zero entries for November are visible on the left side of the graph.\n",
    "\n",
    "**Zero Entries in the Open Column**\n",
    ">\n",
    ">Stocks with zero entries in the \"open\" column do not have zero entries in the \"high\" and \"volume\" columns. This indicates that the \"high\" and \"volume\" values are greater than zero on those particular days and therefore true.\n",
    "\n",
    "**XOM Stock Volume in May 1962**\n",
    ">\n",
    "> In May 1962, the trading volume for XOM was zero on most days.\n",
    "> However, these zeros do not appear in the \"open\" and \"high\" columns.\n",
    "> This suggests that the zero volumes are true values, indicating no trading activity on those particular days."
   ]
  },
  {
   "cell_type": "markdown",
   "metadata": {},
   "source": [
    "> ℹ️ **Instructions** ℹ️\n",
    ">\n",
    "> Once you have identified the column that needs to undergo imputation, update the values for the affected records by using the average value for the affected stock.\n",
    ">\n",
    ">*You may use as many coding cells as necessary.*"
   ]
  },
  {
   "cell_type": "markdown",
   "metadata": {},
   "source": [
    "**The high column summary statistics for CAT indicate a mean of 1.36. However, this figure includes false zero entries from November 1962. Therefore, the true mean of this column should exclude these zero entries.**"
   ]
  },
  {
   "cell_type": "code",
   "execution_count": 36,
   "metadata": {},
   "outputs": [
    {
     "name": "stdout",
     "output_type": "stream",
     "text": [
      "+-------+-------------------+-------------------+-------------------+-------------------+--------------------+-----------------+-----+\n",
      "|summary|               open|               high|                low|              close|           adj_close|           volume|stock|\n",
      "+-------+-------------------+-------------------+-------------------+-------------------+--------------------+-----------------+-----+\n",
      "|  count|                210|                210|                210|                210|                 210|              210|  210|\n",
      "|   mean| 1.4796130992117382|  1.497284225622813| 1.4625000022706531|  1.478695437454042|  0.1281465702113651|172994.2857142857| NULL|\n",
      "| stddev|0.14504910720640965|0.14329073387941013|0.14480423423137262|0.14481484455602614|0.011897403105197836|84334.09275992992| NULL|\n",
      "|    min|           1.234375|               1.25| 1.2291666269302368|           1.234375|  0.1067195460200309|            16800|  CAT|\n",
      "|    max|               1.75| 1.7708333730697632| 1.7447916269302368|               1.75| 0.15032221376895905|           544800|  CAT|\n",
      "+-------+-------------------+-------------------+-------------------+-------------------+--------------------+-----------------+-----+\n",
      "\n"
     ]
    }
   ],
   "source": [
    "# Filter the DataFrame for CAT stock and high column non-zero values\n",
    "df_cat_high_non_zero = df_dropna.filter((F.col('stock') == 'CAT') & (F.col('high') != 0))\n",
    "df_cat_high_non_zero.describe().show()"
   ]
  },
  {
   "cell_type": "code",
   "execution_count": 37,
   "metadata": {},
   "outputs": [
    {
     "data": {
      "text/plain": [
       "1.497284225622813"
      ]
     },
     "execution_count": 37,
     "metadata": {},
     "output_type": "execute_result"
    }
   ],
   "source": [
    "# Calculate the mean of the high column for CAT\n",
    "mean_high_cat = df_cat_high_non_zero.agg(F.mean('high').alias('mean_high')).collect()[0]['mean_high']\n",
    "mean_high_cat"
   ]
  },
  {
   "cell_type": "markdown",
   "metadata": {},
   "source": [
    "### High column after data imputation"
   ]
  },
  {
   "cell_type": "code",
   "execution_count": 38,
   "metadata": {},
   "outputs": [
    {
     "data": {
      "image/png": "[encoded data removed]",
      "text/plain": [
       "<Figure size 1000x600 with 1 Axes>"
      ]
     },
     "metadata": {},
     "output_type": "display_data"
    }
   ],
   "source": [
    "# Filter the DataFrame for CAT stock (Without false zeros) and collect the high column data\n",
    "cat_high_data = df_cat_high_non_zero.select('high').rdd.flatMap(lambda x: x).collect()\n",
    "\n",
    "# Plot the histogram\n",
    "plt.figure(figsize=(10, 6))\n",
    "plt.hist(cat_high_data, bins=30, edgecolor='black', alpha=0.7)\n",
    "plt.title('Histogram of High Prices for CAT Stock, Without False Zeros')\n",
    "plt.xlabel('High Prices')\n",
    "plt.ylabel('Frequency')\n",
    "plt.grid(True)\n",
    "plt.show()"
   ]
  },
  {
   "cell_type": "code",
   "execution_count": 39,
   "metadata": {},
   "outputs": [],
   "source": [
    "# Replace zero values in the high column for CAT in the month of November\n",
    "df_cat_high_non_zero_copy = df_cat_high_non_zero\n",
    "df_new = df_dropna\n",
    "\n",
    "df_imputed = df_new.withColumn(\n",
    "    'high',\n",
    "    F.when((F.col('stock') == 'CAT') & (F.month(F.col('date')) == 11) & (F.col('high') == 0), mean_high_cat).otherwise(F.col('high'))\n",
    ")"
   ]
  },
  {
   "cell_type": "markdown",
   "metadata": {},
   "source": [
    "### Summary Statistics of the imputed DataFrame\n",
    "**Showing a minimun 'high' price of 0.055**"
   ]
  },
  {
   "cell_type": "code",
   "execution_count": 40,
   "metadata": {},
   "outputs": [
    {
     "name": "stdout",
     "output_type": "stream",
     "text": [
      "+-------+------------------+--------------------+-------------------+--------------------+--------------------+-----------------+-----+\n",
      "|summary|              open|                high|                low|               close|           adj_close|           volume|stock|\n",
      "+-------+------------------+--------------------+-------------------+--------------------+--------------------+-----------------+-----+\n",
      "|  count|              5022|                5022|               5022|                5022|                5022|             5022| 5022|\n",
      "|   mean|1.1014219280169133|  16.034782354493565| 15.836436763646883|  15.915820842197855|   5.606189711274126|546946.4157706093| NULL|\n",
      "| stddev|2.3807362974077337|   52.37890734439906|  51.52295147206575|    52.0129707627932|   23.83142762579132| 868294.708934432| NULL|\n",
      "|    min|               0.0|0.054872065782547004|0.05237788334488869|0.053624976426362984|4.038145391405124E-7|                0|   AA|\n",
      "|    max|              20.0|               287.5|              282.5|               285.0|  127.45935821533205|         19545600|  XOM|\n",
      "+-------+------------------+--------------------+-------------------+--------------------+--------------------+-----------------+-----+\n",
      "\n"
     ]
    }
   ],
   "source": [
    "df_imputed.describe().show()"
   ]
  },
  {
   "cell_type": "markdown",
   "metadata": {},
   "source": [
    "\n",
    "## Consistency\n",
    "\n",
    "Consistency is the absence of difference when comparing two or more representations of a thing against a reference.\n",
    "\n",
    "Data entries that refer to the same record or entity have to be consistent across all entries, e.g., if you are dealing with records from a logger in the field, the entries for that logger have to remain consistent, and the name or primary key of that logger cannot change from one entry to another. \n",
    "\n",
    "For example, 'Logger1', 'Loger1' and 'Logge1' are examples of inconsistent keys. \n",
    "\n",
    "This is not just within a single table but also becomes more important if you are dealing with relational data. In which case, the mappings between tables and systems must be consistent. If not, the relationships will be completely lost between the tables and referential integrity compromised. \n",
    "\n",
    "- **Measured by**: Analysis of pattern and/or value frequency;\n",
    "- **Units**: Percentage;\n",
    "- **Related to**: Accuracy, Validity, and Uniqueness."
   ]
  },
  {
   "cell_type": "markdown",
   "metadata": {},
   "source": [
    "> ℹ️ **Instructions** ℹ️\n",
    ">\n",
    "> There currently exists a stock that has inconsistent naming. Make use of the metadata to determine which stock is inconsistently named, then update the dataframe appropriately to get rid of this inconsistency.\n",
    ">\n",
    ">*You may use as many coding cells as necessary.*"
   ]
  },
  {
   "cell_type": "code",
   "execution_count": 41,
   "metadata": {},
   "outputs": [
    {
     "name": "stdout",
     "output_type": "stream",
     "text": [
      "+-----+\n",
      "|stock|\n",
      "+-----+\n",
      "|   AA|\n",
      "|  XOM|\n",
      "|  DIS|\n",
      "|ARNCA|\n",
      "|   PG|\n",
      "|   GT|\n",
      "|   MO|\n",
      "|  IBM|\n",
      "|  JNJ|\n",
      "|  CVX|\n",
      "+-----+\n",
      "only showing top 10 rows\n",
      "\n"
     ]
    }
   ],
   "source": [
    "# Extract the stock symbols from the DataFrame\n",
    "stock_symbols_df = df_imputed.select('stock').distinct()\n",
    "\n",
    "stock_symbols_df.show(10)"
   ]
  },
  {
   "cell_type": "code",
   "execution_count": 42,
   "metadata": {},
   "outputs": [
    {
     "name": "stdout",
     "output_type": "stream",
     "text": [
      "+-------------+\n",
      "|NASDAQ Symbol|\n",
      "+-------------+\n",
      "|         ALXN|\n",
      "|         AWAY|\n",
      "|         BAND|\n",
      "|          BOX|\n",
      "|         BROG|\n",
      "|         CARS|\n",
      "|         CBIO|\n",
      "|          CCK|\n",
      "|         CNXM|\n",
      "|          CRS|\n",
      "+-------------+\n",
      "only showing top 10 rows\n",
      "\n"
     ]
    }
   ],
   "source": [
    "# Extract the stock symbols from the metadata\n",
    "metadata_symbols_df = metadata_df.select('NASDAQ Symbol').distinct()\n",
    "metadata_symbols_df.show(10)"
   ]
  },
  {
   "cell_type": "code",
   "execution_count": 43,
   "metadata": {},
   "outputs": [
    {
     "name": "stdout",
     "output_type": "stream",
     "text": [
      "+-----+\n",
      "|stock|\n",
      "+-----+\n",
      "|ARNCA|\n",
      "+-----+\n",
      "\n"
     ]
    }
   ],
   "source": [
    "# Find inconsistent stock symbols\n",
    "inconsistent_symbols_df = stock_symbols_df.join(metadata_symbols_df, stock_symbols_df['stock'] == metadata_symbols_df['NASDAQ Symbol'], 'left_anti')\n",
    "inconsistent_symbols_df.show()"
   ]
  },
  {
   "cell_type": "code",
   "execution_count": 44,
   "metadata": {},
   "outputs": [
    {
     "name": "stdout",
     "output_type": "stream",
     "text": [
      "+----------+-----------------+------------------+------------------+-----------------+------------------+------+-----+-------------+\n",
      "|      date|             open|              high|               low|            close|         adj_close|volume|stock|NASDAQ Symbol|\n",
      "+----------+-----------------+------------------+------------------+-----------------+------------------+------+-----+-------------+\n",
      "|1962-12-07|5.422770023345947| 5.422770023345947| 5.354684829711914|5.422770023345947| 1.302786350250244| 41900|   AA|           AA|\n",
      "|1962-12-06|5.530904769897461| 5.530904769897461| 5.406750202178955| 5.45481014251709| 1.310483455657959| 80500|   AA|           AA|\n",
      "|1962-12-13|5.354684829711914| 5.462820053100586| 5.330655097961426|5.330655097961426|1.2806570529937744| 56500|   AA|           AA|\n",
      "|1962-12-12|5.406750202178955| 5.506875038146973| 5.346674919128418|5.354684829711914| 1.286428928375244| 60500|   AA|           AA|\n",
      "|1962-12-14|5.330655097961426| 5.330655097961426|5.2625699043273935|5.314634799957275| 1.276807427406311| 43900|   AA|           AA|\n",
      "|1962-12-05|5.522894859313965|5.6230201721191415| 5.522894859313965| 5.60699987411499|1.3470463752746582| 58500|   AA|           AA|\n",
      "|1962-12-17|5.314634799957275| 5.346674919128418| 5.214509963989258|5.214509963989258|1.2527538537979126| 96500|   AA|           AA|\n",
      "|1962-12-04|5.414760112762451|5.5549349784851065| 5.414760112762451|5.514884948730469|1.3249160051345823| 77900|   AA|           AA|\n",
      "|1962-07-10|5.707125186920166| 5.907374858856201|  5.60699987411499|5.615009784698486|1.3347285985946655| 60500|   AA|           AA|\n",
      "|1962-12-11|5.354684829711914| 5.430779933929443| 5.330655097961426|5.406750202178955|1.2989376783370972| 54500|   AA|           AA|\n",
      "+----------+-----------------+------------------+------------------+-----------------+------------------+------+-----+-------------+\n",
      "only showing top 10 rows\n",
      "\n"
     ]
    }
   ],
   "source": [
    "# Verify that the updated DataFrame includes only valid stock symbols\n",
    "consistent_named_df = df_imputed.join(metadata_symbols_df, df_imputed['stock'] == metadata_symbols_df['NASDAQ Symbol'], 'inner')\n",
    "consistent_named_df.show(10)"
   ]
  },
  {
   "cell_type": "code",
   "execution_count": 45,
   "metadata": {},
   "outputs": [
    {
     "name": "stdout",
     "output_type": "stream",
     "text": [
      "Date frame with inconsistent naming: 5022\n",
      "Date frame with consistent naming: 5001\n"
     ]
    }
   ],
   "source": [
    "original_count = df_imputed.count()\n",
    "new_df_count = consistent_named_df.count()\n",
    "\n",
    "print(f\"Date frame with inconsistent naming: {original_count}\")\n",
    "print(f\"Date frame with consistent naming: {new_df_count}\")"
   ]
  },
  {
   "cell_type": "code",
   "execution_count": 46,
   "metadata": {},
   "outputs": [
    {
     "name": "stdout",
     "output_type": "stream",
     "text": [
      "Total records removed: 21\n"
     ]
    }
   ],
   "source": [
    "removed_inconsitent_records = original_count - new_df_count\n",
    "print(f'Total records removed: {removed_inconsitent_records}')"
   ]
  },
  {
   "cell_type": "code",
   "execution_count": 54,
   "metadata": {},
   "outputs": [
    {
     "name": "stdout",
     "output_type": "stream",
     "text": [
      "+----------+-----------------+-----------------+-----------------+-----------------+------------------+------+-----+\n",
      "|date      |open             |high             |low              |close            |adj_close         |volume|stock|\n",
      "+----------+-----------------+-----------------+-----------------+-----------------+------------------+------+-----+\n",
      "|1962-07-20|5.106821537017822|5.247376441955566|5.086319446563722|5.141960144042969|1.199828028678894 |27700 |ARNCA|\n",
      "|1962-07-25|5.013118267059326|5.013118267059326|4.87256383895874 |4.989692687988281|1.1642980575561523|64600 |ARNCA|\n",
      "|1962-07-03|5.083395957946777|5.247376441955566|5.083395957946777|5.223950386047363|1.2189610004425049|98800 |ARNCA|\n",
      "|1962-07-09|5.305940628051758|5.341079235076903|5.200524806976318|5.341079235076903|1.2462913990020752|92400 |ARNCA|\n",
      "|1962-07-17|5.235663414001465|5.235663414001465|5.059969902038574|5.059969902038574|1.1806968450546265|26200 |ARNCA|\n",
      "|1962-07-18|5.059969902038574|5.200524806976318|4.966266632080078|5.165386199951172|1.205294132232666 |41200 |ARNCA|\n",
      "|1962-07-27|5.048257350921631|5.247376441955566|5.048257350921631|5.247376441955566|1.224426507949829 |46900 |ARNCA|\n",
      "|1962-07-31|5.376218318939209|5.481634140014648|5.376218318939209|5.458208560943604|1.2736223936080933|94500 |ARNCA|\n",
      "|1962-07-02|4.919415473937988|5.200524806976318|4.919415473937988|5.083395957946777|1.1861634254455566|90300 |ARNCA|\n",
      "|1962-07-16|5.282515048980713|5.282515048980713|5.21223783493042 |5.235663414001465|1.22169291973114  |27700 |ARNCA|\n",
      "+----------+-----------------+-----------------+-----------------+-----------------+------------------+------+-----+\n",
      "only showing top 10 rows\n",
      "\n"
     ]
    }
   ],
   "source": [
    "# Identify rows in df_imputed that do not match the metadata\n",
    "unmatched_df = df_imputed.join(metadata_symbols_df, df_imputed['stock'] == metadata_symbols_df['NASDAQ Symbol'], 'left_anti')\n",
    "unmatched_df.show(10, truncate=False)"
   ]
  },
  {
   "cell_type": "code",
   "execution_count": 55,
   "metadata": {},
   "outputs": [
    {
     "name": "stdout",
     "output_type": "stream",
     "text": [
      "The number of inconsistently named records 21\n"
     ]
    }
   ],
   "source": [
    "print(f'The number of inconsistently named records {unmatched_df.count()}')"
   ]
  },
  {
   "cell_type": "code",
   "execution_count": 56,
   "metadata": {},
   "outputs": [],
   "source": [
    "new_df = consistent_named_df.drop('NASDAQ Symbol')"
   ]
  },
  {
   "cell_type": "markdown",
   "metadata": {},
   "source": [
    "## Timeliness\n",
    "\n",
    "Timeliness is the degree to which data represent reality from the required point in time.\n",
    "\n",
    "Timeliness expects that the data within your dataset is sufficiently up to date. If you are trying to answer questions that relate to recent problems, having timely data is extremely important. For example, you cannot use current flight patterns to model how many aeroplanes will be required by a large aeronautics company within the next 5-10 years. \n",
    "\n",
    "Similarly, when answering questions that require real-time answers (e.g., predicting when a pipe will burst in a manufacturing plant), you have to be set up to receive real-time data from sensors and loggers. \n",
    "\n",
    "- **Measured by**: Time difference;\n",
    "- **Units**: Time;\n",
    "- **Related to**: Accuracy because it will decay as time progress. "
   ]
  },
  {
   "cell_type": "markdown",
   "metadata": {},
   "source": [
    "It is important to see the latest value for each of the stocks that we are looking at:"
   ]
  },
  {
   "cell_type": "code",
   "execution_count": 57,
   "metadata": {},
   "outputs": [
    {
     "name": "stdout",
     "output_type": "stream",
     "text": [
      "+-----+----------+\n",
      "|stock| max(Date)|\n",
      "+-----+----------+\n",
      "|   AA|1962-12-31|\n",
      "|  XOM|1962-12-31|\n",
      "|  DIS|1962-12-31|\n",
      "|   PG|1962-12-31|\n",
      "|   GT|1962-12-31|\n",
      "|   MO|1962-12-31|\n",
      "|  IBM|1962-12-31|\n",
      "|  JNJ|1962-12-31|\n",
      "|  CVX|1962-12-31|\n",
      "|  DTE|1962-12-31|\n",
      "|   BA|1962-12-31|\n",
      "|   GE|1962-12-31|\n",
      "|  HPQ|1962-12-31|\n",
      "| ARNC|1962-12-31|\n",
      "|  CAT|1962-12-31|\n",
      "|   IP|1962-12-31|\n",
      "|   FL|1962-12-31|\n",
      "|   ED|1962-12-31|\n",
      "|  NAV|1962-11-30|\n",
      "|   KO|1962-12-31|\n",
      "+-----+----------+\n",
      "\n"
     ]
    }
   ],
   "source": [
    "new_df.groupBy('stock').agg(F.max('Date')).show()"
   ]
  },
  {
   "cell_type": "code",
   "execution_count": 44,
   "metadata": {},
   "outputs": [
    {
     "name": "stdout",
     "output_type": "stream",
     "text": [
      "+-----+----------+\n",
      "|stock| max(Date)|\n",
      "+-----+----------+\n",
      "|   AA|1962-12-31|\n",
      "|  XOM|1962-12-31|\n",
      "|  DIS|1962-12-31|\n",
      "|   PG|1962-12-31|\n",
      "|   GT|1962-12-31|\n",
      "|   MO|1962-12-31|\n",
      "|  IBM|1962-12-31|\n",
      "|  JNJ|1962-12-31|\n",
      "|  CVX|1962-12-31|\n",
      "|  DTE|1962-12-31|\n",
      "|   BA|1962-12-31|\n",
      "|   GE|1962-12-31|\n",
      "|  HPQ|1962-12-31|\n",
      "| ARNC|1962-12-31|\n",
      "|  CAT|1962-12-31|\n",
      "|   IP|1962-12-31|\n",
      "|   FL|1962-12-31|\n",
      "|   ED|1962-12-31|\n",
      "|  NAV|1962-12-31|\n",
      "|   KO|1962-12-31|\n",
      "+-----+----------+\n",
      "\n"
     ]
    }
   ],
   "source": [
    "df.groupBy('stock').agg(F.max('Date')).show()"
   ]
  },
  {
   "cell_type": "markdown",
   "metadata": {},
   "source": [
    "Sometimes, some of these axes of data quality will be less important than others. \n",
    "This is one of those cases where it is less important to have timely data, since \n",
    "we are trying to create a training dataset for a stock market prediction algorithm. \n",
    "\n",
    "It is important to know the context in which you are doing your modelling. "
   ]
  },
  {
   "cell_type": "markdown",
   "metadata": {},
   "source": [
    "### Gaps in the dataset\n",
    "\n",
    "Let's see if we can find inconsistencies in the time series by having a look at the number of entries for each of the tickers.\n",
    " \n",
    "> ℹ️ **Instructions** ℹ️\n",
    ">\n",
    "> Uncomment and use the below code to determine which dates had entries that were not equal to 20. You may have to change the name of the dataframe to see the resultant output\n",
    ">\n",
    ">*You may use as many coding cells as necessary.*"
   ]
  },
  {
   "cell_type": "code",
   "execution_count": 58,
   "metadata": {
    "scrolled": true
   },
   "outputs": [
    {
     "name": "stdout",
     "output_type": "stream",
     "text": [
      "+----------+-----+\n",
      "|      date|count|\n",
      "+----------+-----+\n",
      "|1962-12-19|   19|\n",
      "|1962-03-20|   19|\n",
      "|1962-02-06|   23|\n",
      "|1962-07-27|   18|\n",
      "|1962-09-18|   21|\n",
      "|1962-07-02|   18|\n",
      "|1962-03-26|   19|\n",
      "|1962-09-13|   21|\n",
      "|1962-09-10|   21|\n",
      "|1962-12-12|   18|\n",
      "|1962-03-19|   19|\n",
      "|1962-12-07|   18|\n",
      "|1962-06-15|   19|\n",
      "|1962-06-18|   19|\n",
      "|1962-03-16|   19|\n",
      "|1962-12-18|   19|\n",
      "|1962-07-25|   18|\n",
      "|1962-03-13|   19|\n",
      "|1962-02-27|   23|\n",
      "|1962-02-15|   23|\n",
      "|1962-03-14|   19|\n",
      "|1962-02-08|   23|\n",
      "|1962-02-16|   23|\n",
      "|1962-06-13|   19|\n",
      "|1962-06-07|   19|\n",
      "|1962-06-29|   19|\n",
      "|1962-03-15|   19|\n",
      "|1962-02-02|   23|\n",
      "|1962-09-19|   21|\n",
      "|1962-09-20|   21|\n",
      "|1962-07-19|   18|\n",
      "|1962-07-24|   18|\n",
      "|1962-03-05|   19|\n",
      "|1962-03-01|   19|\n",
      "|1962-07-03|   18|\n",
      "|1962-02-13|   23|\n",
      "|1962-02-01|   23|\n",
      "|1962-09-07|   21|\n",
      "|1962-12-03|   19|\n",
      "|1962-12-14|   18|\n",
      "|1962-06-27|   19|\n",
      "|1962-06-12|   19|\n",
      "|1962-09-21|   21|\n",
      "|1962-12-11|   18|\n",
      "|1962-02-28|   23|\n",
      "|1962-07-10|   18|\n",
      "|1962-12-17|   18|\n",
      "|1962-03-07|   19|\n",
      "|1962-06-20|   19|\n",
      "|1962-12-31|   19|\n",
      "|1962-07-13|   18|\n",
      "|1962-02-23|   23|\n",
      "|1962-02-19|   23|\n",
      "|1962-06-22|   19|\n",
      "|1962-07-16|   18|\n",
      "|1962-06-26|   19|\n",
      "|1962-02-07|   23|\n",
      "|1962-07-23|   18|\n",
      "|1962-12-21|   19|\n",
      "|1962-09-06|   21|\n",
      "|1962-03-28|   19|\n",
      "|1962-07-17|   18|\n",
      "|1962-09-28|   21|\n",
      "|1962-07-18|   18|\n",
      "|1962-09-14|   21|\n",
      "|1962-06-04|   19|\n",
      "|1962-12-27|   19|\n",
      "|1962-09-17|   21|\n",
      "|1962-07-31|   18|\n",
      "|1962-07-26|   18|\n",
      "|1962-06-19|   19|\n",
      "|1962-12-06|   18|\n",
      "|1962-03-30|   19|\n",
      "|1962-02-12|   23|\n",
      "|1962-06-14|   19|\n",
      "|1962-06-11|   19|\n",
      "|1962-07-20|   18|\n",
      "|1962-02-09|   23|\n",
      "|1962-06-01|   19|\n",
      "|1962-09-12|   21|\n",
      "|1962-02-14|   23|\n",
      "|1962-06-25|   19|\n",
      "|1962-06-05|   19|\n",
      "|1962-02-21|   23|\n",
      "|1962-03-06|   19|\n",
      "|1962-09-26|   21|\n",
      "|1962-03-08|   19|\n",
      "|1962-03-21|   19|\n",
      "|1962-02-26|   23|\n",
      "|1962-06-06|   19|\n",
      "|1962-03-22|   19|\n",
      "|1962-09-04|   21|\n",
      "|1962-03-29|   19|\n",
      "|1962-03-23|   19|\n",
      "|1962-12-28|   19|\n",
      "|1962-03-12|   19|\n",
      "|1962-09-05|   21|\n",
      "|1962-07-06|   18|\n",
      "|1962-12-20|   19|\n",
      "|1962-12-26|   19|\n",
      "|1962-09-25|   21|\n",
      "|1962-12-24|   19|\n",
      "|1962-07-09|   18|\n",
      "|1962-12-04|   18|\n",
      "|1962-07-05|   18|\n",
      "|1962-06-28|   19|\n",
      "|1962-07-11|   18|\n",
      "|1962-12-13|   18|\n",
      "|1962-07-12|   18|\n",
      "|1962-03-27|   19|\n",
      "|1962-12-10|   18|\n",
      "|1962-03-02|   19|\n",
      "|1962-03-09|   19|\n",
      "|1962-06-21|   19|\n",
      "|1962-09-27|   21|\n",
      "|1962-09-11|   21|\n",
      "|1962-12-05|   18|\n",
      "|1962-07-30|   18|\n",
      "|1962-06-08|   19|\n",
      "|1962-09-24|   21|\n",
      "|1962-02-05|   23|\n",
      "|1962-02-20|   23|\n",
      "+----------+-----+\n",
      "\n"
     ]
    }
   ],
   "source": [
    "new_df.orderBy('date').groupby('date').count().where(F.col('count') != 20).show(400)"
   ]
  },
  {
   "cell_type": "markdown",
   "metadata": {},
   "source": [
    "> ℹ️ **Instructions** ℹ️\n",
    ">\n",
    "> From the above result, investigate the number of times a stock appears for the given month. You can infer the months by using the output of the previous cell.\n",
    ">\n",
    ">*You may use as many coding cells as necessary.*"
   ]
  },
  {
   "cell_type": "code",
   "execution_count": 59,
   "metadata": {},
   "outputs": [
    {
     "name": "stdout",
     "output_type": "stream",
     "text": [
      "+-----+-----+-----+\n",
      "|stock|month|count|\n",
      "+-----+-----+-----+\n",
      "|   AA|    1|   22|\n",
      "|   AA|    2|   19|\n",
      "|   AA|    3|   22|\n",
      "|   AA|    4|   20|\n",
      "|   AA|    5|   22|\n",
      "|   AA|    6|   21|\n",
      "|   AA|    7|   21|\n",
      "|   AA|    8|   23|\n",
      "|   AA|    9|   19|\n",
      "|   AA|   10|   23|\n",
      "|   AA|   11|   20|\n",
      "|   AA|   12|   20|\n",
      "| ARNC|    1|   22|\n",
      "| ARNC|    2|   19|\n",
      "| ARNC|    3|   22|\n",
      "| ARNC|    4|   20|\n",
      "| ARNC|    5|   22|\n",
      "| ARNC|    6|   21|\n",
      "| ARNC|    8|   23|\n",
      "| ARNC|    9|   19|\n",
      "| ARNC|   10|   23|\n",
      "| ARNC|   11|   20|\n",
      "| ARNC|   12|   20|\n",
      "|   BA|    1|   22|\n",
      "|   BA|    2|   19|\n",
      "|   BA|    3|   22|\n",
      "|   BA|    4|   20|\n",
      "|   BA|    5|   22|\n",
      "|   BA|    6|   21|\n",
      "|   BA|    7|   21|\n",
      "|   BA|    8|   23|\n",
      "|   BA|    9|   19|\n",
      "|   BA|   10|   23|\n",
      "|   BA|   11|   20|\n",
      "|   BA|   12|   10|\n",
      "|  CAT|    1|   22|\n",
      "|  CAT|    2|   19|\n",
      "|  CAT|    4|   20|\n",
      "|  CAT|    5|   22|\n",
      "|  CAT|    6|   21|\n",
      "+-----+-----+-----+\n",
      "only showing top 40 rows\n",
      "\n"
     ]
    }
   ],
   "source": [
    "# Extract month from date and group by stock and month\n",
    "monthly_counts_df = new_df.withColumn('month', F.month('date')).groupBy('stock', 'month').count()\n",
    "ordered_monthly_counts_df = monthly_counts_df.orderBy('stock', 'month')\n",
    "ordered_monthly_counts_df.show(40)"
   ]
  },
  {
   "cell_type": "markdown",
   "metadata": {},
   "source": [
    "## Uniqueness\n",
    "\n",
    "Uniqueness requires that nothing will be recorded more than once based upon how that thing is identified. It is the inverse of an assessment of the level of duplication.\n",
    "\n",
    "Each entry within the dataset should only relate to a single event that has occurred and thus should not be duplicated. This is largely mediated by having the appropriate primary key, which means sticking to the requirements of a good primary key. All fields in the tables should be non-transitively dependent on the primary key.\n",
    "\n",
    "As such, deduplication of the dataset may be required. \n",
    "\n",
    "- **Measured by**: Analysis of the number of things assessed in the “real world” compared to the number of records of things in the dataset. This requires a reference dataset which is the ground truth;\n",
    "- **Units**: Percentage;\n",
    "- **Related to**: Consistency."
   ]
  },
  {
   "cell_type": "markdown",
   "metadata": {},
   "source": [
    "### Duplication Test\n",
    "For time-series data, it is important to check for duplications, as we typically expect all values to be unique within the dataset.\n",
    "\n",
    "The first thing to check will be if the primary key values within the dataset are unique - in our case, that will be a combination of the stock name and the date.\n",
    "\n",
    "Secondly, we want to check if the entries are all unique, which is done by checking for duplicates across that whole dataset."
   ]
  },
  {
   "cell_type": "markdown",
   "metadata": {},
   "source": [
    "> ℹ️ **Instructions** ℹ️\n",
    ">\n",
    "> Write code to determine if there are any duplicates within the data, and then proceed to correct this by dropping them from the dataframe.\n",
    ">\n",
    ">*You may use as many coding cells as necessary.*"
   ]
  },
  {
   "cell_type": "code",
   "execution_count": 60,
   "metadata": {},
   "outputs": [],
   "source": [
    "# Check for duplicates based on primary key (stock and date)\n",
    "duplicates_primary_key_df = new_df.groupBy('stock', 'date').count().filter(F.col('count') > 1)"
   ]
  },
  {
   "cell_type": "code",
   "execution_count": 61,
   "metadata": {},
   "outputs": [
    {
     "name": "stdout",
     "output_type": "stream",
     "text": [
      "+-----+----------+-----+\n",
      "|stock|      date|count|\n",
      "+-----+----------+-----+\n",
      "|  HPQ|1962-02-21|    4|\n",
      "|  HPQ|1962-02-23|    4|\n",
      "|  HPQ|1962-02-07|    4|\n",
      "|  HPQ|1962-02-15|    4|\n",
      "|  HPQ|1962-02-01|    4|\n",
      "|  HPQ|1962-02-08|    4|\n",
      "|  HPQ|1962-02-05|    4|\n",
      "|  HPQ|1962-02-28|    4|\n",
      "|  HPQ|1962-02-09|    4|\n",
      "|  HPQ|1962-02-20|    4|\n",
      "|  HPQ|1962-02-12|    4|\n",
      "|  HPQ|1962-02-27|    4|\n",
      "|  HPQ|1962-02-16|    4|\n",
      "|  HPQ|1962-02-02|    4|\n",
      "|  HPQ|1962-02-06|    4|\n",
      "|  HPQ|1962-02-26|    4|\n",
      "|  HPQ|1962-02-13|    4|\n",
      "|  HPQ|1962-02-14|    4|\n",
      "|  HPQ|1962-02-19|    4|\n",
      "|   ED|1962-09-19|    2|\n",
      "+-----+----------+-----+\n",
      "only showing top 20 rows\n",
      "\n"
     ]
    }
   ],
   "source": [
    "duplicates_primary_key_df.show()"
   ]
  },
  {
   "cell_type": "code",
   "execution_count": 62,
   "metadata": {},
   "outputs": [
    {
     "name": "stdout",
     "output_type": "stream",
     "text": [
      "Number of duplicates based on primary key: 38\n"
     ]
    }
   ],
   "source": [
    "# Count number of duplicate rows\n",
    "print(f\"Number of duplicates based on primary key: {duplicates_primary_key_df.count()}\")"
   ]
  },
  {
   "cell_type": "code",
   "execution_count": 63,
   "metadata": {},
   "outputs": [
    {
     "data": {
      "text/plain": [
       "5001"
      ]
     },
     "execution_count": 63,
     "metadata": {},
     "output_type": "execute_result"
    }
   ],
   "source": [
    "new_df.count()"
   ]
  },
  {
   "cell_type": "code",
   "execution_count": 64,
   "metadata": {},
   "outputs": [
    {
     "name": "stdout",
     "output_type": "stream",
     "text": [
      "Number of rows after removing all duplicates: 4925\n"
     ]
    }
   ],
   "source": [
    "# Remove duplicates\n",
    "deduplicated_full_df = new_df.dropDuplicates()\n",
    "\n",
    "# Verify that duplicates are removed\n",
    "print(f\"Number of rows after removing all duplicates: {deduplicated_full_df.count()}\")"
   ]
  },
  {
   "cell_type": "code",
   "execution_count": 65,
   "metadata": {},
   "outputs": [
    {
     "name": "stdout",
     "output_type": "stream",
     "text": [
      "+-----+----+-----+\n",
      "|stock|date|count|\n",
      "+-----+----+-----+\n",
      "+-----+----+-----+\n",
      "\n"
     ]
    }
   ],
   "source": [
    "# Check if the duplicated records are removed\n",
    "duplicates_primary_key_df = deduplicated_full_df.groupBy('stock', 'date').count().filter(F.col('count') > 1)\n",
    "duplicates_primary_key_df.show()"
   ]
  },
  {
   "cell_type": "markdown",
   "metadata": {},
   "source": [
    "## Validity\n",
    "Data is valid if it conforms to the syntax (format, type, range) of its definition.\n",
    "\n",
    "Certain values within a field may have specific criteria required to make it valid, e.g., numerical columns cannot contain alphabetical characters, which can occur due to scientific notation.\n",
    "\n",
    "This can be more difficult to determine in stings, in which case you may have to check using regex. \n",
    "\n",
    "- **Measured by**: Comparison between the data and metadata or documentation for the data item;\n",
    "- **Units**: Percentage of data items deemed Valid or Invalid;\n",
    "- **Related to**: Accuracy, Completeness, Consistency, and Uniqueness."
   ]
  },
  {
   "cell_type": "markdown",
   "metadata": {},
   "source": [
    "We need to first define what we expect from our dataset:\n",
    "\n",
    "- stock: string (nullable = true) => Should be contained in the list of expected tickers\n",
    "- date: date (nullable = true) => Should conform to date format, and be in the past\n",
    "- open: double (nullable = true) => Should be positive or 0\n",
    "- high: double (nullable = true) => Should be positive or 0\n",
    "- low: double (nullable = true) => Should be positive or 0 (should be < high)\n",
    "- close: double (nullable = true) => Should be positive or 0 (should be <= high )\n",
    "- adj_close: double (nullable = true) => Should be positive or 0\n",
    "- volume: integer (nullable = true) => Should be positive or 0\n",
    "- high_avg: double (nullable = true) => Derived (not needed to test)\n",
    "- high_imp: double (nullable = true) => Derived (not needed to test)\n",
    "- day_of_week: string (nullable = true) => Derived (not needed to test)\n",
    "\n",
    "*Is there any other logic that we can incorporate?*"
   ]
  },
  {
   "cell_type": "markdown",
   "metadata": {},
   "source": [
    "> ℹ️ **Instructions** ℹ️\n",
    ">\n",
    "> Use the metadata to check if all the stocks in your current dataframe are valid. In other words, make sure you have no foreign/unknown tickers in your dataframe.\n",
    ">\n",
    ">*You may use as many coding cells as necessary.*\n"
   ]
  },
  {
   "cell_type": "code",
   "execution_count": 66,
   "metadata": {},
   "outputs": [
    {
     "name": "stdout",
     "output_type": "stream",
     "text": [
      "root\n",
      " |-- date: date (nullable = true)\n",
      " |-- open: double (nullable = true)\n",
      " |-- high: double (nullable = true)\n",
      " |-- low: double (nullable = true)\n",
      " |-- close: double (nullable = true)\n",
      " |-- adj_close: double (nullable = true)\n",
      " |-- volume: integer (nullable = true)\n",
      " |-- stock: string (nullable = true)\n",
      "\n"
     ]
    }
   ],
   "source": [
    "deduplicated_full_df.printSchema()"
   ]
  },
  {
   "cell_type": "code",
   "execution_count": 359,
   "metadata": {},
   "outputs": [],
   "source": [
    "# # Convert columns to the desired data types\n",
    "# def data_type_casting(df):\n",
    "#     df = df.withColumn(\"date\", df[\"date\"].cast(DateType())) \\\n",
    "#        .withColumn(\"open\", df[\"open\"].cast(DoubleType())) \\\n",
    "#        .withColumn(\"high\", df[\"high\"].cast(DoubleType())) \\\n",
    "#        .withColumn(\"low\", df[\"low\"].cast(DoubleType())) \\\n",
    "#        .withColumn(\"close\", df[\"close\"].cast(DoubleType())) \\\n",
    "#        .withColumn(\"adj_close\", df[\"adj_close\"].cast(DoubleType())) \\\n",
    "#        .withColumn(\"volume\", df[\"volume\"].cast(IntegerType()))\n",
    "#     return df"
   ]
  },
  {
   "cell_type": "code",
   "execution_count": 360,
   "metadata": {},
   "outputs": [],
   "source": [
    "# corrected_dtypes_df = data_type_casting(deduplicated_full_df)"
   ]
  },
  {
   "cell_type": "code",
   "execution_count": 67,
   "metadata": {},
   "outputs": [],
   "source": [
    "# corrected_dtypes_df.printSchema()"
   ]
  },
  {
   "cell_type": "code",
   "execution_count": 68,
   "metadata": {},
   "outputs": [],
   "source": [
    "# # Check if any data was lost during the conversion\n",
    "# difference = deduplicated_full_df.count() - correct_dtypes_df.count()\n",
    "# print(f'The number of rows lost during the conversion: {difference}')"
   ]
  },
  {
   "cell_type": "code",
   "execution_count": 69,
   "metadata": {},
   "outputs": [],
   "source": [
    "# Get the list of valid stock symbols from the metadata data frame\n",
    "valid_symbols = metadata_df.select('NASDAQ Symbol').rdd.flatMap(lambda x: x).collect()\n",
    "\n",
    "# Check for valid stock symbols\n",
    "valid_symbols_set = set(valid_symbols)"
   ]
  },
  {
   "cell_type": "code",
   "execution_count": 70,
   "metadata": {},
   "outputs": [],
   "source": [
    "# Function to validate stock symbol\n",
    "def is_valid_stock(symbol):\n",
    "    return symbol in valid_symbols_set"
   ]
  },
  {
   "cell_type": "code",
   "execution_count": 71,
   "metadata": {},
   "outputs": [],
   "source": [
    "# UDF to apply the validation function\n",
    "is_valid_stock_udf = F.udf(is_valid_stock, BooleanType())"
   ]
  },
  {
   "cell_type": "code",
   "execution_count": 72,
   "metadata": {},
   "outputs": [
    {
     "name": "stderr",
     "output_type": "stream",
     "text": [
      "                                                                                \r"
     ]
    },
    {
     "name": "stdout",
     "output_type": "stream",
     "text": [
      "Number of invalid stock symbols: 0\n"
     ]
    }
   ],
   "source": [
    "# Apply the validation UDFs to the DataFrame\n",
    "valid_df = deduplicated_full_df.filter(\n",
    "    is_valid_stock_udf(F.col('stock')) \n",
    ")\n",
    "\n",
    "# Count the number of invalid rows\n",
    "invalid_count = deduplicated_full_df.count() - valid_df.count()\n",
    "print(f'Number of invalid stock symbols: {invalid_count}')"
   ]
  },
  {
   "cell_type": "markdown",
   "metadata": {},
   "source": [
    "> ℹ️ **Instructions** ℹ️\n",
    ">\n",
    ">\n",
    ">Check if the date column contains only valid dates and all dates are in the past.\n",
    ">\n",
    ">*Valid dates should already be checked in the data reading step.*"
   ]
  },
  {
   "cell_type": "code",
   "execution_count": 75,
   "metadata": {},
   "outputs": [],
   "source": [
    "# Check if a date is in the past\n",
    "def is_past_date(date):\n",
    "    if date is None:\n",
    "        return False\n",
    "    return date <= datetime.now().date()"
   ]
  },
  {
   "cell_type": "code",
   "execution_count": 76,
   "metadata": {},
   "outputs": [],
   "source": [
    "is_past_date_udf = F.udf(is_past_date, BooleanType())"
   ]
  },
  {
   "cell_type": "code",
   "execution_count": 77,
   "metadata": {},
   "outputs": [
    {
     "name": "stdout",
     "output_type": "stream",
     "text": [
      "Number of invalid dates: 0\n"
     ]
    }
   ],
   "source": [
    "# Apply the validation UDFs to the DataFrame\n",
    "valid_df = deduplicated_full_df.filter(\n",
    "    is_past_date_udf(F.col('date'))\n",
    ")\n",
    "\n",
    "# Count the number of invalid rows\n",
    "invalid_count = deduplicated_full_df.count() - valid_df.count()\n",
    "print(f'Number of invalid dates: {invalid_count}')"
   ]
  },
  {
   "cell_type": "markdown",
   "metadata": {},
   "source": [
    "> ℹ️ **Instructions** ℹ️\n",
    ">\n",
    ">Check that all of numerical columns are positive."
   ]
  },
  {
   "cell_type": "code",
   "execution_count": 78,
   "metadata": {},
   "outputs": [],
   "source": [
    "# Check if all numerical entries are positive or zero\n",
    "def is_positive_or_zero(value):\n",
    "    if value is None:\n",
    "        return False\n",
    "    return value >= 0"
   ]
  },
  {
   "cell_type": "code",
   "execution_count": 79,
   "metadata": {},
   "outputs": [],
   "source": [
    "is_positive_or_zero_udf = F.udf(is_positive_or_zero, BooleanType())"
   ]
  },
  {
   "cell_type": "code",
   "execution_count": 80,
   "metadata": {},
   "outputs": [
    {
     "name": "stdout",
     "output_type": "stream",
     "text": [
      "Number of invalid rows: 0\n"
     ]
    }
   ],
   "source": [
    "# Apply the validation UDFs to the DataFrame\n",
    "valid_df = deduplicated_full_df.filter(\n",
    "    is_positive_or_zero_udf(F.col('open')) &\n",
    "    is_positive_or_zero_udf(F.col('high')) &\n",
    "    is_positive_or_zero_udf(F.col('low')) &\n",
    "    is_positive_or_zero_udf(F.col('close')) &\n",
    "    is_positive_or_zero_udf(F.col('adj_close')) &\n",
    "    is_positive_or_zero_udf(F.col('volume'))\n",
    ")\n",
    "\n",
    "# Count the number of invalid rows\n",
    "invalid_count = deduplicated_full_df.count() - valid_df.count()\n",
    "print(f'Number of invalid rows: {invalid_count}')"
   ]
  },
  {
   "cell_type": "code",
   "execution_count": 81,
   "metadata": {},
   "outputs": [
    {
     "name": "stdout",
     "output_type": "stream",
     "text": [
      "Number of invalid rows: 36\n"
     ]
    }
   ],
   "source": [
    "# Check if 'high' prices are greater or equal to 'close' and 'low' prices\n",
    "valid_df = deduplicated_full_df.filter(\n",
    "    (F.col('low') <= F.col('high')) &\n",
    "    (F.col('close') <= F.col('high'))\n",
    ")\n",
    "\n",
    "# Count the number of invalid rows\n",
    "invalid_count = deduplicated_full_df.count() - valid_df.count()\n",
    "print(f'Number of invalid rows: {invalid_count}')"
   ]
  },
  {
   "cell_type": "code",
   "execution_count": 82,
   "metadata": {},
   "outputs": [
    {
     "name": "stdout",
     "output_type": "stream",
     "text": [
      "+----------+----+------------------+-------------------+------------------+--------------------+-------+-----+\n",
      "|      date|open|              high|                low|             close|           adj_close| volume|stock|\n",
      "+----------+----+------------------+-------------------+------------------+--------------------+-------+-----+\n",
      "|1962-10-30| 0.0|0.1061197891831398| 0.1106770858168602|0.1111111119389534|1.408496318617835...|1382400|   MO|\n",
      "|1962-12-11| 0.0|0.1712962985038757|0.17129629850387573|0.1712962985038757|4.876485490967752E-7| 302400|  JNJ|\n",
      "|1962-02-21| 0.0| 3.534226179122925|               20.0| 3.519345283508301|   0.056027352809906| 214400|  CVX|\n",
      "|1962-02-23| 0.0| 3.519345283508301|               20.0|3.5044643878936768|  0.0557905137538909| 172800|  CVX|\n",
      "|1962-02-07| 0.0| 3.467261791229248|               20.0|3.4300594329833984|  0.0546059794723987| 292800|  CVX|\n",
      "|1962-02-15| 0.0| 3.534226179122925|               20.0|3.5119047164916988|  0.0559089295566082| 142400|  CVX|\n",
      "|1962-02-01| 0.0| 3.296130895614624|               20.0| 3.296130895614624|  0.0524738691747188| 326400|  CVX|\n",
      "|1962-02-08| 0.0|3.4598214626312256|               20.0|3.4449405670166016|  0.0548428781330585|  86400|  CVX|\n",
      "|1962-02-05| 0.0|            3.4375|               20.0| 3.392857074737549|  0.0540137328207492| 208000|  CVX|\n",
      "|1962-02-28| 0.0| 3.519345283508301|               20.0| 3.482142925262451|  0.0554351136088371| 176000|  CVX|\n",
      "+----------+----+------------------+-------------------+------------------+--------------------+-------+-----+\n",
      "only showing top 10 rows\n",
      "\n"
     ]
    }
   ],
   "source": [
    "# Display invalid rows that were removed from the dataset\n",
    "invalid_rows_df = deduplicated_full_df.subtract(valid_df)\n",
    "invalid_rows_df.show(10)"
   ]
  },
  {
   "cell_type": "code",
   "execution_count": 83,
   "metadata": {},
   "outputs": [
    {
     "data": {
      "text/plain": [
       "4889"
      ]
     },
     "execution_count": 83,
     "metadata": {},
     "output_type": "execute_result"
    }
   ],
   "source": [
    "# Final dataframe after removing invalid entries\n",
    "valid_df.count()"
   ]
  },
  {
   "cell_type": "markdown",
   "metadata": {},
   "source": [
    "### Save Updates\n",
    "\n",
    "With our initial work of checking the various dimensions of the data quality completed, we can now save these results to a CSV file.  "
   ]
  },
  {
   "cell_type": "code",
   "execution_count": 84,
   "metadata": {},
   "outputs": [],
   "source": [
    "pd_df = valid_df.toPandas()"
   ]
  },
  {
   "cell_type": "code",
   "execution_count": 85,
   "metadata": {},
   "outputs": [],
   "source": [
    "pd_df.to_csv('./sipho_shimange_data_profiling.csv')"
   ]
  }
 ],
 "metadata": {
  "interpreter": {
   "hash": "24a0a2ddc4dffcb168e507551dd24967ddc40ea2df7a72a200a74e0ae6d88beb"
  },
  "kernelspec": {
   "display_name": "Python 3 (ipykernel)",
   "language": "python",
   "name": "python3"
  },
  "language_info": {
   "codemirror_mode": {
    "name": "ipython",
    "version": 3
   },
   "file_extension": ".py",
   "mimetype": "text/x-python",
   "name": "python",
   "nbconvert_exporter": "python",
   "pygments_lexer": "ipython3",
   "version": "3.9.1"
  }
 },
 "nbformat": 4,
 "nbformat_minor": 4
}
